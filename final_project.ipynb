{
 "cells": [
  {
   "cell_type": "markdown",
   "metadata": {},
   "source": [
    "- [0 Introduction](#0-Introduction)"
   ]
  },
  {
   "cell_type": "code",
   "execution_count": 618,
   "metadata": {
    "collapsed": false
   },
   "outputs": [],
   "source": [
    "import numpy as np\n",
    "import pandas as pd\n",
    "from sklearn.linear_model import LinearRegression as Lin_Reg\n",
    "from sklearn.linear_model import Ridge as Ridge_Reg\n",
    "from sklearn.linear_model import Lasso as Lasso_Reg\n",
    "from sklearn.linear_model import LogisticRegression as Logit\n",
    "from sklearn.discriminant_analysis import LinearDiscriminantAnalysis as LDA\n",
    "from sklearn.discriminant_analysis import QuadraticDiscriminantAnalysis as QDA\n",
    "from sklearn.neighbors import KNeighborsClassifier as KNN\n",
    "from sklearn.tree import DecisionTreeClassifier as DecisionTree\n",
    "from sklearn.ensemble import RandomForestClassifier as RandomForest\n",
    "from sklearn.svm import SVC\n",
    "from sklearn.decomposition import PCA\n",
    "from sklearn.ensemble import GradientBoostingClassifier\n",
    "\n",
    "from sklearn.preprocessing import LabelEncoder as LabelEncoder\n",
    "import sklearn.preprocessing as Preprocessing\n",
    "from sklearn.preprocessing import Imputer\n",
    "from sklearn.preprocessing import StandardScaler as Standardize\n",
    "from sklearn.cross_validation import KFold\n",
    "from sklearn.cross_validation import cross_val_score\n",
    "from sklearn.grid_search import GridSearchCV\n",
    "from sklearn.cross_validation import train_test_split\n",
    "\n",
    "\n",
    "import itertools as it\n",
    "import matplotlib\n",
    "import matplotlib.pyplot as plt\n",
    "import matplotlib.cm as cmx\n",
    "import matplotlib.colors as colors\n",
    "import scipy as sp\n",
    "from scipy import stats\n",
    "from itertools import combinations\n",
    "\n",
    "\n",
    "\n",
    "from sklearn.metrics import roc_curve\n",
    "from sklearn.metrics import roc_auc_score\n",
    "\n",
    "from collections import defaultdict\n",
    "\n",
    "\n",
    "%matplotlib inline\n",
    "import warnings\n",
    "warnings.filterwarnings(\"ignore\")"
   ]
  },
  {
   "cell_type": "markdown",
   "metadata": {},
   "source": [
    "# 0 Introduction"
   ]
  },
  {
   "cell_type": "markdown",
   "metadata": {},
   "source": [
    "## Project Overview"
   ]
  },
  {
   "cell_type": "markdown",
   "metadata": {},
   "source": [
    "## Motivation"
   ]
  },
  {
   "cell_type": "markdown",
   "metadata": {},
   "source": [
    "# 1 Data "
   ]
  },
  {
   "cell_type": "markdown",
   "metadata": {},
   "source": [
    "## 1.1 Lending Club Data"
   ]
  },
  {
   "cell_type": "markdown",
   "metadata": {},
   "source": [
    "Lending Club loan data is available at https://www.lendingclub.com/info/download-data.action. In this project I used the data of loans issued in the first three quarters in 2016. I uploaded this data to the project github page under 'data/LoanStats_securev1_2016Q1.csv', 'LoanStats_securev1_2016Q2.csv', and 'data/LoanStats_2016Q3.csv'. For each loan, 115 features are provided and the description of the features is under 'data/LCDataDictionary.xlsx'."
   ]
  },
  {
   "cell_type": "code",
   "execution_count": 620,
   "metadata": {
    "collapsed": false
   },
   "outputs": [],
   "source": [
    "data1 = pd.read_csv(\"./data/orig_data/LoanStats_securev1_2016Q1.csv\", skiprows = 1)\n",
    "data2 = pd.read_csv(\"./data/orig_data/LoanStats_securev1_2016Q2.csv\", skiprows = 1)\n",
    "data3 = pd.read_csv(\"./data/orig_data/LoanStats_2016Q3.csv\", skiprows = 1)\n",
    "## concatenate datasets into one dataset\n",
    "data_all = pd.concat((data1, data2, data3), axis = 0, ignore_index=True)"
   ]
  },
  {
   "cell_type": "code",
   "execution_count": 621,
   "metadata": {
    "collapsed": false
   },
   "outputs": [
    {
     "data": {
      "text/plain": [
       "(330867, 115)"
      ]
     },
     "execution_count": 621,
     "metadata": {},
     "output_type": "execute_result"
    }
   ],
   "source": [
    "data_all.shape"
   ]
  },
  {
   "cell_type": "markdown",
   "metadata": {},
   "source": [
    "### 1.1.1 Loan Status"
   ]
  },
  {
   "cell_type": "markdown",
   "metadata": {},
   "source": [
    "A total of 330867 loans were issued by lending club in the first three quarters of year 2016. The loans might have one of several status such as \"Current\", \"Fully Paid\", \"Charged Off\", etc. I treated the \"Current\" status as unknown status, and focus on the loans with known status that are either \"Fully Paid\" (meaning non-default) or \"Default\" (including \"Charged Off\", \"Late\", \"In Grace Period\", \"Does not meet the credit policy\", \"Default\"). I assigned the value of 1 to the default loans and the value of 0 to non-default loans."
   ]
  },
  {
   "cell_type": "code",
   "execution_count": 27,
   "metadata": {
    "collapsed": false
   },
   "outputs": [
    {
     "data": {
      "text/plain": [
       "Current               305952\n",
       "Fully Paid             16318\n",
       "Late (31-120 days)      3547\n",
       "In Grace Period         2982\n",
       "Late (16-30 days)       1160\n",
       "Charged Off              881\n",
       "Default                   21\n",
       "Name: loan_status, dtype: int64"
      ]
     },
     "execution_count": 27,
     "metadata": {},
     "output_type": "execute_result"
    }
   ],
   "source": [
    "data_all['loan_status'].value_counts()"
   ]
  },
  {
   "cell_type": "code",
   "execution_count": 539,
   "metadata": {
    "collapsed": false
   },
   "outputs": [
    {
     "name": "stdout",
     "output_type": "stream",
     "text": [
      "The number of defaulted loans is 8591 , and the number of non-default loans is 16318\n"
     ]
    }
   ],
   "source": [
    "## remove \"current status\"\n",
    "data = data_all[data_all['loan_status']!= 'Current']\n",
    "\n",
    "## remove observations with unknown (NaN) loan status\n",
    "data = data[data['loan_status'] == data['loan_status']]\n",
    "\n",
    "# y == 1 if default, y == 0 if fully paid\n",
    "y = np.ones(data.shape[0])\n",
    "y[data['loan_status'].values =='Fully Paid'] = 0\n",
    "\n",
    "total_default = len(y[y==1])\n",
    "total_non_default = len(y[y==0])\n",
    "print \"The number of defaulted loans is\", total_default, \", and the number of non-default loans is\", total_non_default"
   ]
  },
  {
   "cell_type": "code",
   "execution_count": 540,
   "metadata": {
    "collapsed": false
   },
   "outputs": [],
   "source": [
    "# save response values to 'lc_response.csv'\n",
    "np.savetxt(\"lc_response.csv\", y, delimiter=\",\")"
   ]
  },
  {
   "cell_type": "code",
   "execution_count": 541,
   "metadata": {
    "collapsed": true
   },
   "outputs": [],
   "source": [
    "## x get a copy of data\n",
    "x = data[:]"
   ]
  },
  {
   "cell_type": "markdown",
   "metadata": {},
   "source": [
    "### 1.1.2 Missing Data\n",
    "\n",
    "I dropped variables with more than 10% missing values in the data set. For the rest missing data, I used scikit-learn impute function to fill the missing data with the mean of the variable in the whole data set."
   ]
  },
  {
   "cell_type": "code",
   "execution_count": 542,
   "metadata": {
    "collapsed": false
   },
   "outputs": [
    {
     "name": "stdout",
     "output_type": "stream",
     "text": [
      "The number of variables deleted due to too many massing values is 15\n"
     ]
    }
   ],
   "source": [
    "too_many_missing = []\n",
    "for column in x.columns:\n",
    "    if (x[column].isnull().sum() >0.1*x.shape[0]):\n",
    "        too_many_missing.append(column)\n",
    "print \"The number of variables deleted due to too many massing values is\", len(too_many_missing)\n",
    "x = x.drop(too_many_missing, axis = 1)"
   ]
  },
  {
   "cell_type": "markdown",
   "metadata": {},
   "source": [
    "### 1.1.3 Transform String Variables\n",
    "\n",
    "The variable \"issue_d\" is a string containing the issue year and month of the loans. I created two variables of 'issue_y' and 'issue_m' and deleted the variable \"issue_d\". Same as string variable 'earliest_cr_line', 'revol_util'"
   ]
  },
  {
   "cell_type": "code",
   "execution_count": 543,
   "metadata": {
    "collapsed": true
   },
   "outputs": [],
   "source": [
    "## generate year variable\n",
    "x['issue_y'] = x['issue_d'].str[4:]\n",
    "\n",
    "## generate month variable\n",
    "x['issue_m'] = x['issue_d'].str[:3]\n",
    "\n",
    "x = x.drop(['issue_d'], axis = 1)"
   ]
  },
  {
   "cell_type": "code",
   "execution_count": 544,
   "metadata": {
    "collapsed": false
   },
   "outputs": [],
   "source": [
    "x['cr_y'] = x['issue_y'].apply(lambda k: float(k)) - x['earliest_cr_line'].str[4:].apply(lambda k: float(k))\n",
    "x['revol_util'] = x['revol_util'].apply(lambda k: float(str(k).strip('%'))/100)\n",
    "\n",
    "x = x.drop(['earliest_cr_line'], axis = 1)"
   ]
  },
  {
   "cell_type": "markdown",
   "metadata": {},
   "source": [
    "### 1.1.4 Variables with Constant Values\n",
    "\n",
    "1. \n",
    "There might be variables with constant values in the data set, which have no use in predicting the loan outcomes. Therefore I checked the number of unique values for each variable in the data set and deleted the constant variables.\n",
    "2. \n",
    "There might be variables that have valid meaning for default loans only and have no meaning for non-default loans (for example, \"collection_recovery_fee\"), or vice versa. These variables are strongly associated with the loan outcomes. Therefore, we cannot use them as predictors of loan status, but should not be used as predictors of loan outcomes since they are essentially variable of loan outcomes. Therefore I also deleted variables with constant values for all default loans or with constant values for all non-default loans.\n"
   ]
  },
  {
   "cell_type": "code",
   "execution_count": 545,
   "metadata": {
    "collapsed": false
   },
   "outputs": [
    {
     "name": "stdout",
     "output_type": "stream",
     "text": [
      "policy_code has a constant value for all observations.\n",
      "pymnt_plan has a constant value for all observations.\n",
      "issue_y has a constant value for all observations.\n"
     ]
    }
   ],
   "source": [
    "## look at the unique values of each variable in the entire dataset\n",
    "unique_values = [] \n",
    "for column in x.columns:\n",
    "    \n",
    "    ## get unique values of variables\n",
    "    unique = len(x[column].unique())\n",
    "    if unique == 1:\n",
    "        print column, \"has a constant value for all observations.\"\n",
    "    ## append the unique value to unique_values list\n",
    "    unique_values.append(unique)\n",
    "\n",
    "#print \"The numbers of unique values of corresponding variables are\", unique_values"
   ]
  },
  {
   "cell_type": "code",
   "execution_count": 546,
   "metadata": {
    "collapsed": false
   },
   "outputs": [],
   "source": [
    "x = x.drop(['policy_code', 'pymnt_plan', 'issue_y'], axis = 1)"
   ]
  },
  {
   "cell_type": "code",
   "execution_count": 547,
   "metadata": {
    "collapsed": false
   },
   "outputs": [
    {
     "name": "stdout",
     "output_type": "stream",
     "text": [
      "collection_recovery_fee only valid for default loans\n",
      "loan_status only valid for default loans\n",
      "out_prncp only valid for default loans\n",
      "out_prncp_inv only valid for default loans\n",
      "recoveries only valid for default loans\n"
     ]
    }
   ],
   "source": [
    "## look at the unique values of each variable by loan status\n",
    "unique_values_by_status = pd.DataFrame({}) \n",
    "for column in x.columns:\n",
    "    \n",
    "    ## get unique values of variables grouped by loan status\n",
    "    unique = pd.Series((len(x[column][y == 0].unique()), len(x[column][y == 1].unique())))\n",
    "    \n",
    "    if len(x[column][y == 0].unique()) == 1:\n",
    "        print column, \"only valid for default loans\"\n",
    "        \n",
    "    if len(x[column][y == 1].unique()) == 1:\n",
    "        print column, \"only valid for non-default loans\"\n",
    "    ## append the unique value series to unique_values_by_status dataframe\n",
    "    unique_values_by_status = pd.concat([unique_values_by_status, unique], axis=1)"
   ]
  },
  {
   "cell_type": "code",
   "execution_count": 548,
   "metadata": {
    "collapsed": false
   },
   "outputs": [],
   "source": [
    "x = x.drop(['collection_recovery_fee', 'out_prncp', 'out_prncp_inv', 'recoveries'], axis = 1)"
   ]
  },
  {
   "cell_type": "markdown",
   "metadata": {},
   "source": [
    "### 1.1.5 Meaningless Non-predictors"
   ]
  },
  {
   "cell_type": "markdown",
   "metadata": {},
   "source": [
    "Delete variables that are not meaningful and thus do not contribute to the prediction of loan outcome."
   ]
  },
  {
   "cell_type": "code",
   "execution_count": 549,
   "metadata": {
    "collapsed": false
   },
   "outputs": [],
   "source": [
    "## Drop non-predictors and keep valid predictors only\n",
    "x = x.drop(['member_id', 'id', 'url', 'emp_title'], axis = 1, inplace = False)"
   ]
  },
  {
   "cell_type": "markdown",
   "metadata": {},
   "source": [
    "###  1.1.6 \"Post-hoc\" Variables"
   ]
  },
  {
   "cell_type": "markdown",
   "metadata": {},
   "source": [
    "\"Post-hoc\" variables are variables that are not available until the issuance of the loans, such as principle received up to today. Since we are predicting the loan outcomes to decide whether or not to lend the money, we need to make the decision with avaialble information before the issuance of loans. Therefore I went through the documentation and discovered all the \"post-hoc\" variables. Including the \"post-hoc\" variables as predictors gave me perfect predicting accuracy (around 98%), but in practical it makes no sense to include the post-hoc information in prediction model, so I excluded all the post-hoc variables."
   ]
  },
  {
   "cell_type": "code",
   "execution_count": 550,
   "metadata": {
    "collapsed": false
   },
   "outputs": [],
   "source": [
    "x = x.drop(['total_pymnt', 'total_pymnt_inv', 'last_pymnt_amnt','last_pymnt_d', 'total_rec_int', 'total_rec_late_fee', 'last_credit_pull_d', 'total_rec_prncp'], axis = 1)"
   ]
  },
  {
   "cell_type": "markdown",
   "metadata": {},
   "source": [
    "### 1.1.7 Third-party Credit Score"
   ]
  },
  {
   "cell_type": "markdown",
   "metadata": {},
   "source": [
    "The Lending Club data set also include FICO scores of the borrowers and Lending Club credit grade of the loans. Since the credit score and grade are artificially generated by human beings trying to predict the default probability of the loans, these features are not available from the raw data of borrowers and loans. \n",
    "\n",
    "Since the goal of this project is to predict the outcomes of loans, it makes sense to exclude the credit grade as predictors and use only raw information of loans and borrowers. Similarly, the interest rate of loans should be excluded because it is also a reflection of the default probability of the loans."
   ]
  },
  {
   "cell_type": "code",
   "execution_count": 551,
   "metadata": {
    "collapsed": false
   },
   "outputs": [
    {
     "data": {
      "image/png": "[encoded data removed]",
      "text/plain": [
       "<matplotlib.figure.Figure at 0x7f87b3a9cbd0>"
      ]
     },
     "metadata": {},
     "output_type": "display_data"
    }
   ],
   "source": [
    "ax1 = plt.subplot()\n",
    "grade_default = x[y == 1].grade.copy()\n",
    "grade_default.sort()\n",
    "grade_default.reset_index(drop=True)\n",
    "grade_non_default = x[y == 0].grade.copy()\n",
    "grade_non_default.sort()\n",
    "grade_non_default.reset_index(drop=True)\n",
    "\n",
    "\n",
    "\n",
    "grade_default.value_counts().sort_index().plot(kind='bar', color = 'red',alpha = 0.4, position=0, width=0.25, axes = ax1, label = 'default')\n",
    "grade_non_default.value_counts().sort_index().plot(kind='bar', color = 'blue', alpha = 0.4, position=1, width=0.25, axes = ax1, label = 'non-default')\n",
    "\n",
    "for tick in ax1.get_xticklabels():\n",
    "        tick.set_rotation(360)      \n",
    "        \n",
    "        \n",
    "plt.legend()\n",
    "plt.title('Number of loans of different Lending Club Grades')\n",
    "plt.show()"
   ]
  },
  {
   "cell_type": "code",
   "execution_count": 552,
   "metadata": {
    "collapsed": false
   },
   "outputs": [],
   "source": [
    "x = x.drop(['grade', 'sub_grade', 'int_rate'], axis = 1)"
   ]
  },
  {
   "cell_type": "markdown",
   "metadata": {},
   "source": [
    "### 1.1.8 Drop highly-correlated variables"
   ]
  },
  {
   "cell_type": "markdown",
   "metadata": {},
   "source": [
    "Among the left 80 features, some of them are highly-correlated. I plotted the correlation between each pair of the features and identify the features of high correlation. Then I deleted the highly-correlated features and keep only one representing to represent its peer features."
   ]
  },
  {
   "cell_type": "code",
   "execution_count": 553,
   "metadata": {
    "collapsed": false
   },
   "outputs": [],
   "source": [
    "corr_m = x.corr()\n",
    "# corr_m\n",
    "high_corr = ['funded_amnt', 'funded_amnt_inv', 'installment']\n",
    "x = x.drop(high_corr, axis = 1) "
   ]
  },
  {
   "cell_type": "markdown",
   "metadata": {},
   "source": [
    "### 1.1.9 Transform annual_inc to log measure"
   ]
  },
  {
   "cell_type": "code",
   "execution_count": 554,
   "metadata": {
    "collapsed": false
   },
   "outputs": [],
   "source": [
    "# plt.hist(x['annual_inc'])\n",
    "# plt.clf()\n",
    "x['annual_inc'] = np.log(x['annual_inc']+1)\n",
    "# plt.hist(x['annual_inc'])"
   ]
  },
  {
   "cell_type": "markdown",
   "metadata": {},
   "source": [
    "### 1.1.10 Trivial changes"
   ]
  },
  {
   "cell_type": "code",
   "execution_count": 555,
   "metadata": {
    "collapsed": true
   },
   "outputs": [],
   "source": [
    "data = data[x['home_ownership']!= 'ANY']\n",
    "y = y[x['home_ownership'].values != 'ANY']\n",
    "x = x[x['home_ownership']!= 'ANY']"
   ]
  },
  {
   "cell_type": "markdown",
   "metadata": {},
   "source": [
    "## 1.2 Census Data"
   ]
  },
  {
   "cell_type": "markdown",
   "metadata": {},
   "source": [
    "Census data by zip code available at http://www.psc.isr.umich.edu/dis/census/Features/tract2zip/index.html. I also uploaded this data to the project github page under 'data/MedianZIP-3.csv'.\n",
    "\n",
    "I merged the Lending Club data with Census data by zipcode to extend the feature set with neighborhood average income (weighted by population)."
   ]
  },
  {
   "cell_type": "code",
   "execution_count": 556,
   "metadata": {
    "collapsed": false
   },
   "outputs": [],
   "source": [
    "####read zip data\n",
    "zipdata = pd.read_csv(\"./data/MedianZIP-3.csv\")\n",
    "\n",
    "zipdata['3d'] = zipdata['Zip'].apply(lambda l: l/100)\n",
    "zipdata['Average'] = zipdata['Mean']*zipdata['Pop']\n",
    "### 887 zip in zipdata\n",
    "\n",
    "zipagg = zipdata[['3d', 'Average']].groupby(['3d'], as_index=False).mean()\n",
    "\n",
    "x['zip_code']  = x['zip_code'].apply(lambda l: int(l.strip('xx')))\n",
    "\n",
    "x = pd.merge(x, zipagg, left_on=['zip_code'],\n",
    "              right_on=['3d'],\n",
    "              how='left')\n",
    "x = x.drop(['3d', 'zip_code'], axis = 1)"
   ]
  },
  {
   "cell_type": "markdown",
   "metadata": {},
   "source": [
    "## 1.3 Preprocessing Categorical Variables"
   ]
  },
  {
   "cell_type": "markdown",
   "metadata": {},
   "source": [
    "I tried two ways to untanggle the categorical variable:\n",
    "\n",
    "1. I expanded the categorical variables to dummies using on-hot-encode function of scikit-learn. The new feature data set is named 'x_exp', containing 163 features.\n",
    "2. I encoded the categorical variables using scikit-learn function LabelEncoder(). The new feature data set is named 'x_encod' containint 75 features."
   ]
  },
  {
   "cell_type": "code",
   "execution_count": 557,
   "metadata": {
    "collapsed": false,
    "scrolled": true
   },
   "outputs": [
    {
     "name": "stdout",
     "output_type": "stream",
     "text": [
      "variables encoded to dummies:\n",
      "addr_state\n",
      "application_type\n",
      "emp_length\n",
      "home_ownership\n",
      "initial_list_status\n",
      "purpose\n",
      "term\n",
      "title\n",
      "verification_status\n",
      "issue_m\n"
     ]
    }
   ],
   "source": [
    "x_exp = pd.DataFrame({}) \n",
    "print \"variables encoded to dummies:\"\n",
    "# Iterate over all attributes\n",
    "for column in x.columns:\n",
    "    # Check if attribute is categorical: has less than 8 unique values,\n",
    "    # or is string values (column has type 'object')\n",
    "#      (len(x[column].unique()) <10) & \n",
    "    if(column == 'loan_status'):\n",
    "        continue\n",
    "    if(x[column].dtype == np.dtype('object')):\n",
    "        print column\n",
    "        # use one-hot encoding for this column\n",
    "        encoding = pd.get_dummies(x[column], drop_first = True)\n",
    "        # append expanded attribute to data frame\n",
    "        x_exp = pd.concat([x_exp, encoding], axis=1)\n",
    "    else:\n",
    "        x_exp = pd.concat([x_exp, x[[column]]], axis=1)\n",
    "        \n",
    "imputer = Imputer(strategy='most_frequent')\n",
    "imputer.fit(x_exp)\n",
    "x_temp = imputer.transform(x_exp)\n",
    "x_exp = pd.DataFrame(x_temp, columns= x_exp.columns)"
   ]
  },
  {
   "cell_type": "code",
   "execution_count": 558,
   "metadata": {
    "collapsed": false
   },
   "outputs": [
    {
     "data": {
      "text/plain": [
       "((24908, 163), (24908, 75))"
      ]
     },
     "execution_count": 558,
     "metadata": {},
     "output_type": "execute_result"
    }
   ],
   "source": [
    "for column in x.columns:\n",
    "    if x[column].dtype != 'object':\n",
    "        x[column].fillna(x[column].mean(), inplace=True)\n",
    "        \n",
    "####Encode categorical variables\n",
    "\n",
    "d = defaultdict(LabelEncoder)\n",
    "#With this, you now retain all columns LabelEncoder as dictionary.\n",
    "categorical_list = []\n",
    "for column in x.columns:\n",
    "    if x[column].dtype == 'object':\n",
    "        categorical_list.append(column)\n",
    "        \n",
    "# Encoding the variable\n",
    "x_encod = x.drop(['loan_status'], axis = 1).apply(lambda x: d[x.name].fit_transform(x) if x.name in categorical_list else x) \n",
    "x_exp.shape, x_encod.shape"
   ]
  },
  {
   "cell_type": "markdown",
   "metadata": {},
   "source": [
    "# 2. Analysis"
   ]
  },
  {
   "cell_type": "markdown",
   "metadata": {},
   "source": [
    "## 2.1 Visualization and plots"
   ]
  },
  {
   "cell_type": "markdown",
   "metadata": {},
   "source": [
    "### 2.1.1 Annual Income and Loan Amount"
   ]
  },
  {
   "cell_type": "markdown",
   "metadata": {},
   "source": [
    "First I explored the relationship between loan amount and annual income, and plotted the relationship curves separately for different loan outcomes (default and non-default). For each range of loan amount and for two different loan outcomes, I calculate the average annual income of borrowers. I found that the two relationship curves far away from each other when the loan amount is relatively low, but converges together as loan amount exceeds 20000. Note that annual income has been transformed to log measure due to right skewness of distribution.\n",
    "\n",
    "This result gives a very important hint: for small loans with amount less than 20000, borrower's annual income has a very important influence on loan outcome. However, for large loans with amount greater than 20000, borrower's annual income does not make a difference in loan outcome.\n",
    "\n",
    "Generally, the red line lies below the blue line, indicating whatever the loan amount, the average annual income of non-defualt loan borrowers is higher than the default loan borrowers. This is consistent with our intuition.  "
   ]
  },
  {
   "cell_type": "code",
   "execution_count": 409,
   "metadata": {
    "collapsed": false
   },
   "outputs": [
    {
     "data": {
      "image/png": "[encoded data removed]",
      "text/plain": [
       "<matplotlib.figure.Figure at 0x7f87b96b2e10>"
      ]
     },
     "metadata": {},
     "output_type": "display_data"
    }
   ],
   "source": [
    "bin_means_0, bin_edges_0, binnumber_0 = stats.binned_statistic(x['loan_amnt'][y == 0], x['annual_inc'][y == 0], statistic='mean', bins=25)\n",
    "bin_width_0 = (bin_edges_0[1] - bin_edges_0[0])\n",
    "bin_centers_0 = bin_edges_0[1:] - bin_width_0/2\n",
    "\n",
    "bin_means_1, bin_edges_1, binnumber_1 = stats.binned_statistic(x['loan_amnt'][(y == 1) & (x['annual_inc'].isnull().values == False)], x['annual_inc'][(y == 1)& (x['annual_inc'].isnull().values == False)], statistic='mean', bins=25)\n",
    "bin_width_1 = (bin_edges_1[1] - bin_edges_1[0])\n",
    "bin_centers_1 = bin_edges_1[1:] - bin_width_1/2\n",
    "\n",
    "plt.scatter(bin_centers_0, bin_means_0, c= 'blue', label = 'non-default')\n",
    "plt.plot(bin_centers_0, bin_means_0, c= 'blue')\n",
    "plt.scatter(bin_centers_1, bin_means_1, c='red', label = 'default')\n",
    "plt.plot(bin_centers_1, bin_means_1, c='red')\n",
    "\n",
    "plt.title(\"average annual_income for each range of loan amount\")\n",
    "plt.xlabel('loan amount')\n",
    "plt.ylabel('annual income')\n",
    "plt.legend(loc = 2)\n",
    "plt.xlim(0, 40000)\n",
    "plt.show()"
   ]
  },
  {
   "cell_type": "markdown",
   "metadata": {},
   "source": [
    "### 2.1.2 Debt to Income Ratio and Loan Amount"
   ]
  },
  {
   "cell_type": "markdown",
   "metadata": {},
   "source": [
    "Then I plotted the relationship curves of debt to income ratio and loan amount by loan outcomes in the same way as 2.1.1. Debt to income ratio is also different for default and non-default loans for each range of loan amount. Generally the borrowers of loans that default have higher debt to income ratio than the borrowers whose loans did not default.\n",
    "\n",
    "The two curves are clearly separated and parallel with each other when loan amount is small. However, as loan amount grows, the two curves converges to each other and even crosses over. This indicates that debt to income ratio might work well in separating the default and non-default loans for small amount loans, but for large amount loans, the influence of debt to income ratio on the loan outcome becomes trivial."
   ]
  },
  {
   "cell_type": "code",
   "execution_count": 410,
   "metadata": {
    "collapsed": false
   },
   "outputs": [
    {
     "data": {
      "image/png": "[encoded data removed]",
      "text/plain": [
       "<matplotlib.figure.Figure at 0x7f87b9578d90>"
      ]
     },
     "metadata": {},
     "output_type": "display_data"
    }
   ],
   "source": [
    "bin_means_0, bin_edges_0, binnumber_0 = stats.binned_statistic(x['loan_amnt'][y == 0], x['dti'][y == 0], statistic='mean', bins=25)\n",
    "bin_width_0 = (bin_edges_0[1] - bin_edges_0[0])\n",
    "bin_centers_0 = bin_edges_0[1:] - bin_width_0/2\n",
    "\n",
    "bin_means_1, bin_edges_1, binnumber_1 = stats.binned_statistic(x['loan_amnt'][y == 1], x['dti'][y == 1], statistic='mean', bins=25)\n",
    "bin_width_1 = (bin_edges_1[1] - bin_edges_1[0])\n",
    "bin_centers_1 = bin_edges_1[1:] - bin_width_1/2\n",
    "\n",
    "plt.scatter(bin_centers_0, bin_means_0, c= 'blue', label = 'non-default')\n",
    "plt.plot(bin_centers_0, bin_means_0, c= 'blue')\n",
    "plt.scatter(bin_centers_1, bin_means_1, c='red', label = 'default')\n",
    "plt.plot(bin_centers_1, bin_means_1, c='red')\n",
    "\n",
    "plt.title(\"average annual_income for each range of loan amount\")\n",
    "plt.xlabel('loan amount')\n",
    "plt.ylabel('annual income')\n",
    "plt.legend(loc = 2)\n",
    "plt.xlim(0, 40000)\n",
    "plt.show()"
   ]
  },
  {
   "cell_type": "markdown",
   "metadata": {},
   "source": [
    "### 2.1.3 Home Ownership"
   ]
  },
  {
   "cell_type": "markdown",
   "metadata": {},
   "source": [
    "The type of home ownership might also be related with loan outcomes, since different home ownership might be an indication of the borrower's financial situation and influence the cash flow capability of the borrowers.\n",
    "\n",
    "From the results we can find that the \"RENT\" type of ownership has the highest proportion of default loans, while \"MORTGAGE\" type of ownership has the lowest. This makes sense because people who choose to apply for mortgage and got approved are those with good credit history and stable income cash flows compared to people who rent to live. "
   ]
  },
  {
   "cell_type": "code",
   "execution_count": 411,
   "metadata": {
    "collapsed": false
   },
   "outputs": [
    {
     "name": "stdout",
     "output_type": "stream",
     "text": [
      "The proportion of default by different types of home ownership is:\n",
      "MORTGAGE    0.298404\n",
      "OWN         0.329897\n",
      "RENT        0.410831\n",
      "Name: home_ownership, dtype: float64\n"
     ]
    },
    {
     "data": {
      "image/png": "[encoded data removed]",
      "text/plain": [
       "<matplotlib.figure.Figure at 0x7f87b989dbd0>"
      ]
     },
     "metadata": {},
     "output_type": "display_data"
    }
   ],
   "source": [
    "## one observation with home_ownership == any, drop it\n",
    "# y = y[x['home_ownership'].values != 'ANY']\n",
    "# x = x[x['home_ownership']!= 'ANY']\n",
    "\n",
    "print \"The proportion of default by different types of home ownership is:\"\n",
    "print x[y == 1].home_ownership.value_counts()/(x[y == 1].home_ownership.value_counts() + x[y == 0].home_ownership.value_counts())\n",
    "ax1 = plt.subplot()\n",
    "x[y == 1].home_ownership.value_counts().plot(kind='bar', color = 'red', position=0,width=0.25,alpha = 0.4, axes = ax1, label = 'default')\n",
    "x[y == 0].home_ownership.value_counts().plot(kind='bar', color = 'blue',position=1,width=0.25, alpha = 0.4, axes = ax1, label = 'non-default')\n",
    "\n",
    "\n",
    "plt.legend()\n",
    "plt.title('Bar plot of Home Ownership')\n",
    "plt.show()"
   ]
  },
  {
   "cell_type": "code",
   "execution_count": 413,
   "metadata": {
    "collapsed": false
   },
   "outputs": [],
   "source": [
    "x = x.drop(['loan_status'], axis = 1)\n",
    "x_copy = x[:]"
   ]
  },
  {
   "cell_type": "markdown",
   "metadata": {},
   "source": [
    "## 2.2 Feature Selection"
   ]
  },
  {
   "cell_type": "markdown",
   "metadata": {},
   "source": [
    "Before conducting feature selection, I split the whold data set into training and testing data sets to avoid fitting to the test data set."
   ]
  },
  {
   "cell_type": "code",
   "execution_count": 414,
   "metadata": {
    "collapsed": false
   },
   "outputs": [],
   "source": [
    "X_train, X_test, y_train, y_test = train_test_split(x_encod, y, test_size=0.3)"
   ]
  },
  {
   "cell_type": "code",
   "execution_count": 415,
   "metadata": {
    "collapsed": true
   },
   "outputs": [],
   "source": [
    "def recall(y, y_hat):\n",
    "    score = np.mean(y_hat[y == 1])\n",
    "    return score\n",
    "\n",
    "def precision(y, y_hat):\n",
    "    score = np.mean(y[y_hat == 1])\n",
    "    return score\n",
    "\n",
    "def F_score(y, y_hat):\n",
    "    prec = precision(y,y_hat)\n",
    "    rec = recall(y, y_hat)\n",
    "    score = 2*(prec*rec)/(prec+rec)\n",
    "    return score"
   ]
  },
  {
   "cell_type": "markdown",
   "metadata": {},
   "source": [
    "### 2.2.1 Lasso Regularization"
   ]
  },
  {
   "cell_type": "markdown",
   "metadata": {},
   "source": [
    "First I use logistic regression with Lasso regularization with different penaly hyper-parameters C. Smaller C means stricter regularization and fewer non-zero parameter features. There is a trade-off between bias and variance: models with fewer features tend to be robust to changes of data, but with more classification error; models with more features are more flexible and good at fitting the training data, but tend to be volatile and sensitivity to changes in data set. There is a \"sweet point\" in-between such that a model gives good performance results with appropriate number of predictors.\n",
    "\n",
    "I drew the ROC curves of all the logistic models with different C-parameters, and based on the analysis of Logistic regression results and ROC curves, I found the \"sweet point\" with C = 0.001 and 28 non-zero parameter predictors."
   ]
  },
  {
   "cell_type": "code",
   "execution_count": 417,
   "metadata": {
    "collapsed": false,
    "scrolled": true
   },
   "outputs": [
    {
     "name": "stdout",
     "output_type": "stream",
     "text": [
      "penalty C is 1\n",
      "Number of non-zero parameters is 75\n",
      "['acc_now_delinq', 'acc_open_past_24mths', 'addr_state', 'all_util', 'annual_inc', 'application_type', 'avg_cur_bal', 'bc_open_to_buy', 'bc_util', 'chargeoff_within_12_mths', 'collections_12_mths_ex_med', 'delinq_2yrs', 'delinq_amnt', 'dti', 'emp_length', 'home_ownership', 'initial_list_status', 'inq_fi', 'inq_last_12m', 'inq_last_6mths', 'loan_amnt', 'max_bal_bc', 'mo_sin_old_il_acct', 'mo_sin_old_rev_tl_op', 'mo_sin_rcnt_rev_tl_op', 'mo_sin_rcnt_tl', 'mort_acc', 'mths_since_rcnt_il', 'mths_since_recent_bc', 'mths_since_recent_inq', 'num_accts_ever_120_pd', 'num_actv_bc_tl', 'num_actv_rev_tl', 'num_bc_sats', 'num_bc_tl', 'num_il_tl', 'num_op_rev_tl', 'num_rev_accts', 'num_rev_tl_bal_gt_0', 'num_sats', 'num_tl_120dpd_2m', 'num_tl_30dpd', 'num_tl_90g_dpd_24m', 'num_tl_op_past_12m', 'open_acc', 'open_acc_6m', 'open_il_12m', 'open_il_24m', 'open_il_6m', 'open_rv_12m', 'open_rv_24m', 'pct_tl_nvr_dlq', 'percent_bc_gt_75', 'pub_rec', 'pub_rec_bankruptcies', 'purpose', 'revol_bal', 'revol_util', 'tax_liens', 'term', 'title', 'tot_coll_amt', 'tot_cur_bal', 'tot_hi_cred_lim', 'total_acc', 'total_bal_ex_mort', 'total_bal_il', 'total_bc_limit', 'total_cu_tl', 'total_il_high_credit_limit', 'total_rev_hi_lim', 'verification_status', 'issue_m', 'cr_y', 'Average']\n",
      "accuracy rate is 0.694579868081\n",
      "recall rate is 0.336773763942\n",
      "precision rate is 0.601367419738\n",
      "F score is 0.431757549888\n",
      "AUC score is 0.714493952598\n",
      "\n",
      "penalty C is 0.1\n",
      "Number of non-zero parameters is 65\n",
      "['acc_now_delinq', 'addr_state', 'all_util', 'annual_inc', 'application_type', 'avg_cur_bal', 'bc_open_to_buy', 'bc_util', 'collections_12_mths_ex_med', 'delinq_2yrs', 'delinq_amnt', 'dti', 'emp_length', 'home_ownership', 'initial_list_status', 'inq_fi', 'inq_last_12m', 'inq_last_6mths', 'loan_amnt', 'max_bal_bc', 'mo_sin_old_il_acct', 'mo_sin_old_rev_tl_op', 'mo_sin_rcnt_rev_tl_op', 'mo_sin_rcnt_tl', 'mort_acc', 'mths_since_rcnt_il', 'mths_since_recent_bc', 'mths_since_recent_inq', 'num_accts_ever_120_pd', 'num_actv_rev_tl', 'num_bc_sats', 'num_bc_tl', 'num_op_rev_tl', 'num_rev_accts', 'num_rev_tl_bal_gt_0', 'num_sats', 'num_tl_90g_dpd_24m', 'open_acc_6m', 'open_il_12m', 'open_il_24m', 'open_il_6m', 'open_rv_12m', 'open_rv_24m', 'pct_tl_nvr_dlq', 'percent_bc_gt_75', 'pub_rec', 'purpose', 'revol_bal', 'revol_util', 'term', 'title', 'tot_coll_amt', 'tot_cur_bal', 'tot_hi_cred_lim', 'total_acc', 'total_bal_ex_mort', 'total_bal_il', 'total_bc_limit', 'total_cu_tl', 'total_il_high_credit_limit', 'total_rev_hi_lim', 'verification_status', 'issue_m', 'cr_y', 'Average']\n",
      "accuracy rate is 0.695153427015\n",
      "recall rate is 0.335109039454\n",
      "precision rate is 0.603779244151\n",
      "F score is 0.431003104593\n",
      "AUC score is 0.713873016774\n",
      "\n",
      "penalty C is 0.01\n",
      "Number of non-zero parameters is 52\n",
      "['acc_open_past_24mths', 'addr_state', 'all_util', 'annual_inc', 'avg_cur_bal', 'bc_open_to_buy', 'bc_util', 'delinq_2yrs', 'delinq_amnt', 'dti', 'emp_length', 'home_ownership', 'inq_fi', 'inq_last_12m', 'inq_last_6mths', 'loan_amnt', 'max_bal_bc', 'mo_sin_old_il_acct', 'mo_sin_old_rev_tl_op', 'mo_sin_rcnt_rev_tl_op', 'mo_sin_rcnt_tl', 'mort_acc', 'mths_since_rcnt_il', 'mths_since_recent_bc', 'mths_since_recent_inq', 'num_accts_ever_120_pd', 'num_bc_tl', 'num_op_rev_tl', 'num_rev_accts', 'num_rev_tl_bal_gt_0', 'open_acc_6m', 'pct_tl_nvr_dlq', 'percent_bc_gt_75', 'pub_rec', 'purpose', 'revol_bal', 'term', 'title', 'tot_coll_amt', 'tot_cur_bal', 'tot_hi_cred_lim', 'total_acc', 'total_bal_ex_mort', 'total_bal_il', 'total_bc_limit', 'total_cu_tl', 'total_il_high_credit_limit', 'total_rev_hi_lim', 'verification_status', 'issue_m', 'cr_y', 'Average']\n",
      "accuracy rate is 0.693260682535\n",
      "recall rate is 0.310637589479\n",
      "precision rate is 0.607224210869\n",
      "F score is 0.411013215859\n",
      "AUC score is 0.708996246591\n",
      "\n",
      "penalty C is 0.001\n",
      "Number of non-zero parameters is 28\n",
      "['acc_open_past_24mths', 'addr_state', 'all_util', 'avg_cur_bal', 'bc_open_to_buy', 'bc_util', 'delinq_amnt', 'dti', 'loan_amnt', 'max_bal_bc', 'mo_sin_old_il_acct', 'mo_sin_rcnt_tl', 'mths_since_rcnt_il', 'mths_since_recent_inq', 'pct_tl_nvr_dlq', 'percent_bc_gt_75', 'revol_bal', 'tot_coll_amt', 'tot_cur_bal', 'tot_hi_cred_lim', 'total_acc', 'total_bal_ex_mort', 'total_bal_il', 'total_bc_limit', 'total_cu_tl', 'total_il_high_credit_limit', 'total_rev_hi_lim', 'Average']\n",
      "accuracy rate is 0.680355606539\n",
      "recall rate is 0.238222074247\n",
      "precision rate is 0.589373970346\n",
      "F score is 0.339300533491\n",
      "AUC score is 0.687497163064\n",
      "\n",
      "penalty C is 0.0001\n",
      "Number of non-zero parameters is 20\n",
      "['avg_cur_bal', 'bc_open_to_buy', 'delinq_amnt', 'dti', 'loan_amnt', 'max_bal_bc', 'mo_sin_old_il_acct', 'mo_sin_old_rev_tl_op', 'pct_tl_nvr_dlq', 'percent_bc_gt_75', 'revol_bal', 'tot_coll_amt', 'tot_cur_bal', 'tot_hi_cred_lim', 'total_bal_ex_mort', 'total_bal_il', 'total_bc_limit', 'total_il_high_credit_limit', 'total_rev_hi_lim', 'Average']\n",
      "accuracy rate is 0.666532836249\n",
      "recall rate is 0.118361911104\n",
      "precision rate is 0.578519121237\n",
      "F score is 0.196517412935\n",
      "AUC score is 0.664102787502\n",
      "\n",
      "penalty C is 1e-05\n",
      "Number of non-zero parameters is 13\n",
      "['avg_cur_bal', 'bc_open_to_buy', 'loan_amnt', 'max_bal_bc', 'revol_bal', 'tot_coll_amt', 'tot_cur_bal', 'tot_hi_cred_lim', 'total_bal_ex_mort', 'total_bal_il', 'total_il_high_credit_limit', 'total_rev_hi_lim', 'Average']\n",
      "accuracy rate is 0.666418124462\n",
      "recall rate is 0.149991676378\n",
      "precision rate is 0.559279950341\n",
      "F score is 0.236545024941\n",
      "AUC score is 0.6544211866\n",
      "\n"
     ]
    }
   ],
   "source": [
    "Cs = [1, 0.1, 0.01, 0.001, 0.0001, 0.00001]\n",
    "\n",
    "fpr = [0]*len(Cs)\n",
    "tpr = [0]*len(Cs)\n",
    "\n",
    "for i in range(len(Cs)):\n",
    "    features = []\n",
    "    C = Cs[i]\n",
    "    print \"penalty C is\", C\n",
    "    logit = Logit(penalty='l1', C=C)\n",
    "    \n",
    "    logit.fit(X_train, y_train)\n",
    "    coefs = logit.coef_\n",
    "\n",
    "    \n",
    "    #### predict y_hat\n",
    "    y_hat = logit.predict(X_train)\n",
    "    \n",
    "    #### draw ROC \n",
    "    y_pred_logit = logit.predict_proba(X_train)[:, 1]\n",
    "    fpr[i], tpr[i], _ = roc_curve(y_train, y_pred_logit)\n",
    "    \n",
    "    #### display the predictors with non-zero parameters\n",
    "    count = 0\n",
    "    for k in range(len(coefs[0])):\n",
    "        if coefs[0][k] != 0:\n",
    "            features.append(X_train.columns.values[k])\n",
    "            count+=1\n",
    "    print \"Number of non-zero parameters is\", count\n",
    "    print features\n",
    "    print \"accuracy rate is\", logit.score(X_train, y_train)\n",
    "    print \"recall rate is\", recall(y_train, y_hat)\n",
    "    print \"precision rate is\", precision(y_train, y_hat)\n",
    "    print \"F score is\", F_score(y_train, y_hat)\n",
    "    print \"AUC score is\", roc_auc_score(y_train, y_pred_logit)\n",
    "    print"
   ]
  },
  {
   "cell_type": "code",
   "execution_count": 418,
   "metadata": {
    "collapsed": false
   },
   "outputs": [
    {
     "data": {
      "image/png": "[encoded data removed]",
      "text/plain": [
       "<matplotlib.figure.Figure at 0x7f87b34df110>"
      ]
     },
     "metadata": {},
     "output_type": "display_data"
    }
   ],
   "source": [
    "for i in range(len(Cs)):\n",
    "    plt.plot(fpr[i], tpr[i], label= 'C =' + str(Cs[i]))\n",
    "\n",
    "plt.xlim(0, 1)\n",
    "plt.ylim(0, 1)\n",
    "plt.xlabel('false positive rate')\n",
    "plt.ylabel('true positive rate')\n",
    "plt.plot([0, 1], [0, 1], 'k--')\n",
    "plt.legend(loc = 4)\n",
    "plt.show()"
   ]
  },
  {
   "cell_type": "markdown",
   "metadata": {},
   "source": [
    "### 2.2.2 Random Forest Feature Importance"
   ]
  },
  {
   "cell_type": "code",
   "execution_count": 455,
   "metadata": {
    "collapsed": false
   },
   "outputs": [
    {
     "name": "stdout",
     "output_type": "stream",
     "text": [
      "5-fold cross validation:\n",
      "Trees: 200 Depth: 4 Score: 0.56 AUC 0.60412987013\n",
      "Trees: 200 Depth: 6 Score: 0.626666666667 AUC 0.653810966811\n",
      "Trees: 200 Depth: 8 Score: 0.546666666667 AUC 0.579725348725\n",
      "Trees: 300 Depth: 4 Score: 0.6 AUC 0.69012047212\n",
      "Trees: 300 Depth: 6 Score: 0.64 AUC 0.645214045214\n",
      "Trees: 300 Depth: 8 Score: 0.546666666667 AUC 0.710512820513\n",
      "Trees: 400 Depth: 4 Score: 0.546666666667 AUC 0.689032967033\n",
      "Trees: 400 Depth: 6 Score: 0.586666666667 AUC 0.665703703704\n",
      "Trees: 400 Depth: 8 Score: 0.573333333333 AUC 0.657996632997\n",
      "Trees: 500 Depth: 4 Score: 0.6 AUC 0.690211640212\n",
      "Trees: 500 Depth: 6 Score: 0.56 AUC 0.616391534392\n",
      "Trees: 500 Depth: 8 Score: 0.6 AUC 0.651641173641\n",
      "Trees: 600 Depth: 4 Score: 0.586666666667 AUC 0.697899470899\n",
      "Trees: 600 Depth: 6 Score: 0.613333333333 AUC 0.694444444444\n",
      "Trees: 600 Depth: 8 Score: 0.546666666667 AUC 0.637094276094\n",
      "Trees: 700 Depth: 4 Score: 0.56 AUC 0.633405483405\n",
      "Trees: 700 Depth: 6 Score: 0.626666666667 AUC 0.65266955267\n",
      "Trees: 700 Depth: 8 Score: 0.506666666667 AUC 0.574745069745\n",
      "number of trees, depth Chosen by Accuracy: 300 , 6 , 0.64\n",
      "number of trees, depth Chosen by AUC: 300 , 8 , 0.710512820513\n"
     ]
    }
   ],
   "source": [
    "####k-folds cross validation\n",
    "\n",
    "X_train_sel = X_train\n",
    "X_test_sel = X_test\n",
    "\n",
    "n_obs = X_train.shape[1]\n",
    "#Parameters for tuning\n",
    "n_trees = np.arange(200, 800, 100)  # Trees and depth are explored on an exponentially growing space,\n",
    "depths = np.arange(4, 10, 2)   # since it is assumed that trees and depth will add accuracy in a decaying fashion.\n",
    "\n",
    "# To keep track of the best model\n",
    "best_score = 0\n",
    "best_recall = 0\n",
    "best_auc = 0\n",
    "\n",
    "# Run grid search for model with 5-fold cross validation\n",
    "print '5-fold cross validation:'\n",
    "\n",
    "for trees in n_trees:\n",
    "    for depth in depths:\n",
    "        \n",
    "        # Cross validation for every experiment\n",
    "        kf = KFold(n_obs, 5, shuffle = True)\n",
    "        scores = []\n",
    "        recalls = []\n",
    "        auc = []\n",
    "        for train_indices, validation_indices in kf:\n",
    "            # Generate training data\n",
    "            x_train_cv = X_train_sel.iloc[train_indices, :]\n",
    "            y_train_cv = y_train[train_indices]\n",
    "            \n",
    "#             print x_train_cv.shape, y_train_cv.shape\n",
    "            # Generate validation data\n",
    "            x_validate = X_train_sel.iloc[validation_indices, :]\n",
    "            y_validate = y_train[validation_indices]\n",
    "            \n",
    "            # Fit random forest on training data\n",
    "            rf = RandomForest(n_estimators=trees, max_depth=depth)\n",
    "            rf.fit(x_train_cv, y_train_cv)\n",
    "            # Score on validation data\n",
    "            scores += [rf.score(x_validate, y_validate)]\n",
    "            y_hat_validate = rf.predict(x_validate)\n",
    "            recalls += [recall(y_validate, y_hat_validate)]\n",
    "            \n",
    "            y_pred_logit = rf.predict_proba(x_validate)[:, 1]\n",
    "            auc += [roc_auc_score(y_validate, y_pred_logit)]\n",
    "        # Record and report accuracy\n",
    "        average_score = np.mean(scores)\n",
    "        recall_rate = np.mean(recalls)\n",
    "        avg_auc = np.mean(auc)\n",
    "        print \"Trees:\", trees, \"Depth:\", depth, \"Score:\", average_score, \"AUC\", avg_auc\n",
    "        \n",
    "        # Update our record of the best parameters see so far\n",
    "        if average_score > best_score:\n",
    "            best_score = average_score\n",
    "            best_trees = trees\n",
    "            best_depth = depth\n",
    "        if avg_auc > best_auc:\n",
    "            best_auc = avg_auc\n",
    "            best_auc_trees = trees\n",
    "            best_auc_depth = depth\n",
    "print 'number of trees, depth Chosen by Accuracy:', best_trees, ',', best_depth, ',', best_score\n",
    "print 'number of trees, depth Chosen by AUC:', best_auc_trees, ',', best_auc_depth, ',', best_auc"
   ]
  },
  {
   "cell_type": "code",
   "execution_count": 456,
   "metadata": {
    "collapsed": false
   },
   "outputs": [
    {
     "data": {
      "image/png": "[encoded data removed]",
      "text/plain": [
       "<matplotlib.figure.Figure at 0x7f87ba797890>"
      ]
     },
     "metadata": {},
     "output_type": "display_data"
    },
    {
     "name": "stdout",
     "output_type": "stream",
     "text": [
      "('acc_now_delinq', 'chargeoff_within_12_mths', 'delinq_amnt', 'collections_12_mths_ex_med', 'initial_list_status', 'application_type', 'inq_fi', 'emp_length', 'acc_open_past_24mths', 'inq_last_6mths', 'mo_sin_rcnt_rev_tl_op', 'inq_last_12m', 'addr_state', 'home_ownership', 'delinq_2yrs', 'mo_sin_old_il_acct', 'mo_sin_old_rev_tl_op', 'annual_inc', 'max_bal_bc', 'avg_cur_bal', 'bc_util', 'dti', 'loan_amnt', 'all_util', 'bc_open_to_buy')\n"
     ]
    }
   ],
   "source": [
    "# Fit model on entire train set using chosen number of trees and depth\n",
    "rf = RandomForest(n_estimators=300, max_depth=8, min_samples_split = 10)\n",
    "rf.fit(X_train_sel,y_train)\n",
    "\n",
    "importance_list = rf.feature_importances_\n",
    "name_list = X_train_sel.columns\n",
    "importance_list, name_list = zip(*sorted(zip(importance_list[:25], name_list[:25])))\n",
    "plt.figure(figsize=(5, 6))\n",
    "plt.barh(range(len(name_list)),importance_list,align='center', color = 'red', alpha = 0.5)\n",
    "plt.yticks(range(len(name_list)),name_list)\n",
    "plt.xlabel('Relative Importance in the Random Forest')\n",
    "plt.ylabel('Features')\n",
    "plt.title('Relative importance of Each Feature')\n",
    "plt.show()\n",
    "print name_list"
   ]
  },
  {
   "cell_type": "markdown",
   "metadata": {},
   "source": [
    "### 2.2.3 Step-wise Backward Feature Selection"
   ]
  },
  {
   "cell_type": "code",
   "execution_count": 464,
   "metadata": {
    "collapsed": false
   },
   "outputs": [],
   "source": [
    "bcwd_list = ['acc_open_past_24mths', 'addr_state', 'all_util', 'avg_cur_bal', 'bc_open_to_buy', \n",
    "             'bc_util', 'delinq_amnt', 'dti', 'loan_amnt', 'max_bal_bc', 'mo_sin_old_il_acct', 'mo_sin_rcnt_tl',\n",
    "             'mths_since_rcnt_il', 'mths_since_recent_inq', 'pct_tl_nvr_dlq', 'percent_bc_gt_75', 'revol_bal', \n",
    "             'tot_coll_amt', 'tot_cur_bal', 'tot_hi_cred_lim', 'total_acc', 'total_bal_ex_mort', 'total_bal_il',\n",
    "             'total_bc_limit', 'total_cu_tl', 'total_il_high_credit_limit', 'total_rev_hi_lim', 'Average',\n",
    "             'acc_now_delinq',  'chargeoff_within_12_mths',  'initial_list_status',  'collections_12_mths_ex_med',\n",
    "             'application_type',  'inq_fi',  'mo_sin_rcnt_rev_tl_op',  'emp_length',  'inq_last_12m', \n",
    "             'inq_last_6mths',  'annual_inc',  'delinq_2yrs',  'home_ownership',]\n",
    "\n",
    "X_sel_train = X_train[bcwd_list]\n",
    "X_sel_test = X_test[bcwd_list]"
   ]
  },
  {
   "cell_type": "code",
   "execution_count": 467,
   "metadata": {
    "collapsed": false,
    "scrolled": true
   },
   "outputs": [
    {
     "name": "stdout",
     "output_type": "stream",
     "text": [
      "40\n",
      "['acc_open_past_24mths', 'addr_state', 'all_util', 'avg_cur_bal', 'bc_open_to_buy', 'bc_util', 'delinq_amnt', 'dti', 'loan_amnt', 'max_bal_bc', 'mo_sin_old_il_acct', 'mo_sin_rcnt_tl', 'mths_since_rcnt_il', 'mths_since_recent_inq', 'pct_tl_nvr_dlq', 'percent_bc_gt_75', 'revol_bal', 'tot_coll_amt', 'tot_cur_bal', 'tot_hi_cred_lim', 'total_acc', 'total_bal_ex_mort', 'total_bal_il', 'total_bc_limit', 'total_cu_tl', 'total_il_high_credit_limit', 'total_rev_hi_lim', 'acc_now_delinq', 'chargeoff_within_12_mths', 'initial_list_status', 'collections_12_mths_ex_med', 'application_type', 'inq_fi', 'mo_sin_rcnt_rev_tl_op', 'emp_length', 'inq_last_12m', 'inq_last_6mths', 'annual_inc', 'delinq_2yrs', 'home_ownership'] 0.656115693457\n",
      "39\n",
      "['acc_open_past_24mths', 'addr_state', 'all_util', 'avg_cur_bal', 'bc_open_to_buy', 'bc_util', 'delinq_amnt', 'dti', 'loan_amnt', 'max_bal_bc', 'mo_sin_old_il_acct', 'mo_sin_rcnt_tl', 'mths_since_rcnt_il', 'mths_since_recent_inq', 'pct_tl_nvr_dlq', 'percent_bc_gt_75', 'revol_bal', 'tot_coll_amt', 'tot_cur_bal', 'tot_hi_cred_lim', 'total_acc', 'total_bal_ex_mort', 'total_bal_il', 'total_bc_limit', 'total_cu_tl', 'total_rev_hi_lim', 'acc_now_delinq', 'chargeoff_within_12_mths', 'initial_list_status', 'collections_12_mths_ex_med', 'application_type', 'inq_fi', 'mo_sin_rcnt_rev_tl_op', 'emp_length', 'inq_last_12m', 'inq_last_6mths', 'annual_inc', 'delinq_2yrs', 'home_ownership'] 0.656367995069\n",
      "38\n",
      "['acc_open_past_24mths', 'addr_state', 'all_util', 'avg_cur_bal', 'bc_open_to_buy', 'bc_util', 'delinq_amnt', 'dti', 'loan_amnt', 'max_bal_bc', 'mo_sin_old_il_acct', 'mo_sin_rcnt_tl', 'mths_since_rcnt_il', 'mths_since_recent_inq', 'pct_tl_nvr_dlq', 'percent_bc_gt_75', 'revol_bal', 'tot_coll_amt', 'tot_cur_bal', 'tot_hi_cred_lim', 'total_acc', 'total_bal_ex_mort', 'total_bc_limit', 'total_cu_tl', 'total_rev_hi_lim', 'acc_now_delinq', 'chargeoff_within_12_mths', 'initial_list_status', 'collections_12_mths_ex_med', 'application_type', 'inq_fi', 'mo_sin_rcnt_rev_tl_op', 'emp_length', 'inq_last_12m', 'inq_last_6mths', 'annual_inc', 'delinq_2yrs', 'home_ownership'] 0.656453693127\n",
      "37\n",
      "['acc_open_past_24mths', 'addr_state', 'avg_cur_bal', 'bc_open_to_buy', 'bc_util', 'delinq_amnt', 'dti', 'loan_amnt', 'max_bal_bc', 'mo_sin_old_il_acct', 'mo_sin_rcnt_tl', 'mths_since_rcnt_il', 'mths_since_recent_inq', 'pct_tl_nvr_dlq', 'percent_bc_gt_75', 'revol_bal', 'tot_coll_amt', 'tot_cur_bal', 'tot_hi_cred_lim', 'total_acc', 'total_bal_ex_mort', 'total_bc_limit', 'total_cu_tl', 'total_rev_hi_lim', 'acc_now_delinq', 'chargeoff_within_12_mths', 'initial_list_status', 'collections_12_mths_ex_med', 'application_type', 'inq_fi', 'mo_sin_rcnt_rev_tl_op', 'emp_length', 'inq_last_12m', 'inq_last_6mths', 'annual_inc', 'delinq_2yrs', 'home_ownership'] 0.656455637831\n",
      "36\n",
      "['acc_open_past_24mths', 'addr_state', 'avg_cur_bal', 'bc_open_to_buy', 'bc_util', 'delinq_amnt', 'dti', 'loan_amnt', 'max_bal_bc', 'mo_sin_old_il_acct', 'mo_sin_rcnt_tl', 'mths_since_rcnt_il', 'mths_since_recent_inq', 'pct_tl_nvr_dlq', 'percent_bc_gt_75', 'revol_bal', 'tot_coll_amt', 'tot_cur_bal', 'tot_hi_cred_lim', 'total_acc', 'total_bal_ex_mort', 'total_bc_limit', 'total_cu_tl', 'total_rev_hi_lim', 'acc_now_delinq', 'chargeoff_within_12_mths', 'initial_list_status', 'collections_12_mths_ex_med', 'application_type', 'inq_fi', 'mo_sin_rcnt_rev_tl_op', 'emp_length', 'inq_last_12m', 'inq_last_6mths', 'delinq_2yrs', 'home_ownership'] 0.656456052992\n",
      "35\n",
      "['acc_open_past_24mths', 'addr_state', 'avg_cur_bal', 'bc_open_to_buy', 'bc_util', 'delinq_amnt', 'dti', 'loan_amnt', 'max_bal_bc', 'mo_sin_old_il_acct', 'mo_sin_rcnt_tl', 'mths_since_rcnt_il', 'mths_since_recent_inq', 'pct_tl_nvr_dlq', 'percent_bc_gt_75', 'revol_bal', 'tot_coll_amt', 'tot_cur_bal', 'tot_hi_cred_lim', 'total_acc', 'total_bal_ex_mort', 'total_bc_limit', 'total_cu_tl', 'total_rev_hi_lim', 'acc_now_delinq', 'chargeoff_within_12_mths', 'initial_list_status', 'collections_12_mths_ex_med', 'application_type', 'mo_sin_rcnt_rev_tl_op', 'emp_length', 'inq_last_12m', 'inq_last_6mths', 'delinq_2yrs', 'home_ownership'] 0.656455288221\n",
      "34\n",
      "['acc_open_past_24mths', 'addr_state', 'avg_cur_bal', 'bc_open_to_buy', 'bc_util', 'delinq_amnt', 'dti', 'loan_amnt', 'max_bal_bc', 'mo_sin_old_il_acct', 'mo_sin_rcnt_tl', 'mths_since_rcnt_il', 'mths_since_recent_inq', 'pct_tl_nvr_dlq', 'percent_bc_gt_75', 'revol_bal', 'tot_coll_amt', 'tot_cur_bal', 'tot_hi_cred_lim', 'total_acc', 'total_bal_ex_mort', 'total_bc_limit', 'total_cu_tl', 'total_rev_hi_lim', 'acc_now_delinq', 'chargeoff_within_12_mths', 'initial_list_status', 'collections_12_mths_ex_med', 'application_type', 'emp_length', 'inq_last_12m', 'inq_last_6mths', 'delinq_2yrs', 'home_ownership'] 0.656456176813\n",
      "33\n",
      "['acc_open_past_24mths', 'addr_state', 'avg_cur_bal', 'bc_open_to_buy', 'bc_util', 'delinq_amnt', 'dti', 'loan_amnt', 'max_bal_bc', 'mo_sin_old_il_acct', 'mo_sin_rcnt_tl', 'mths_since_rcnt_il', 'mths_since_recent_inq', 'pct_tl_nvr_dlq', 'percent_bc_gt_75', 'revol_bal', 'tot_coll_amt', 'tot_cur_bal', 'tot_hi_cred_lim', 'total_acc', 'total_bal_ex_mort', 'total_bc_limit', 'total_cu_tl', 'total_rev_hi_lim', 'acc_now_delinq', 'chargeoff_within_12_mths', 'initial_list_status', 'collections_12_mths_ex_med', 'application_type', 'inq_last_12m', 'inq_last_6mths', 'delinq_2yrs', 'home_ownership'] 0.656455798069\n",
      "32\n",
      "['acc_open_past_24mths', 'addr_state', 'avg_cur_bal', 'bc_open_to_buy', 'bc_util', 'delinq_amnt', 'dti', 'loan_amnt', 'max_bal_bc', 'mo_sin_old_il_acct', 'mo_sin_rcnt_tl', 'mths_since_rcnt_il', 'mths_since_recent_inq', 'percent_bc_gt_75', 'revol_bal', 'tot_coll_amt', 'tot_cur_bal', 'tot_hi_cred_lim', 'total_acc', 'total_bal_ex_mort', 'total_bc_limit', 'total_cu_tl', 'total_rev_hi_lim', 'acc_now_delinq', 'chargeoff_within_12_mths', 'initial_list_status', 'collections_12_mths_ex_med', 'application_type', 'inq_last_12m', 'inq_last_6mths', 'delinq_2yrs', 'home_ownership'] 0.65645559413\n",
      "31\n",
      "['acc_open_past_24mths', 'addr_state', 'avg_cur_bal', 'bc_open_to_buy', 'bc_util', 'delinq_amnt', 'dti', 'loan_amnt', 'max_bal_bc', 'mo_sin_old_il_acct', 'mo_sin_rcnt_tl', 'mths_since_rcnt_il', 'mths_since_recent_inq', 'percent_bc_gt_75', 'revol_bal', 'tot_coll_amt', 'tot_cur_bal', 'tot_hi_cred_lim', 'total_bal_ex_mort', 'total_bc_limit', 'total_cu_tl', 'total_rev_hi_lim', 'acc_now_delinq', 'chargeoff_within_12_mths', 'initial_list_status', 'collections_12_mths_ex_med', 'application_type', 'inq_last_12m', 'inq_last_6mths', 'delinq_2yrs', 'home_ownership'] 0.656455849053\n",
      "30\n",
      "['acc_open_past_24mths', 'addr_state', 'avg_cur_bal', 'bc_open_to_buy', 'delinq_amnt', 'dti', 'loan_amnt', 'max_bal_bc', 'mo_sin_old_il_acct', 'mo_sin_rcnt_tl', 'mths_since_rcnt_il', 'mths_since_recent_inq', 'percent_bc_gt_75', 'revol_bal', 'tot_coll_amt', 'tot_cur_bal', 'tot_hi_cred_lim', 'total_bal_ex_mort', 'total_bc_limit', 'total_cu_tl', 'total_rev_hi_lim', 'acc_now_delinq', 'chargeoff_within_12_mths', 'initial_list_status', 'collections_12_mths_ex_med', 'application_type', 'inq_last_12m', 'inq_last_6mths', 'delinq_2yrs', 'home_ownership'] 0.656455812636\n",
      "29\n",
      "['acc_open_past_24mths', 'addr_state', 'avg_cur_bal', 'bc_open_to_buy', 'delinq_amnt', 'dti', 'loan_amnt', 'max_bal_bc', 'mo_sin_old_il_acct', 'mo_sin_rcnt_tl', 'mths_since_rcnt_il', 'mths_since_recent_inq', 'percent_bc_gt_75', 'revol_bal', 'tot_coll_amt', 'tot_cur_bal', 'tot_hi_cred_lim', 'total_bal_ex_mort', 'total_bc_limit', 'total_rev_hi_lim', 'acc_now_delinq', 'chargeoff_within_12_mths', 'initial_list_status', 'collections_12_mths_ex_med', 'application_type', 'inq_last_12m', 'inq_last_6mths', 'delinq_2yrs', 'home_ownership'] 0.656455754368\n",
      "28\n",
      "['acc_open_past_24mths', 'addr_state', 'avg_cur_bal', 'bc_open_to_buy', 'delinq_amnt', 'dti', 'loan_amnt', 'max_bal_bc', 'mo_sin_old_il_acct', 'mo_sin_rcnt_tl', 'mths_since_rcnt_il', 'mths_since_recent_inq', 'revol_bal', 'tot_coll_amt', 'tot_cur_bal', 'tot_hi_cred_lim', 'total_bal_ex_mort', 'total_bc_limit', 'total_rev_hi_lim', 'acc_now_delinq', 'chargeoff_within_12_mths', 'initial_list_status', 'collections_12_mths_ex_med', 'application_type', 'inq_last_12m', 'inq_last_6mths', 'delinq_2yrs', 'home_ownership'] 0.656456002008\n",
      "27\n",
      "['acc_open_past_24mths', 'addr_state', 'avg_cur_bal', 'bc_open_to_buy', 'delinq_amnt', 'dti', 'loan_amnt', 'max_bal_bc', 'mo_sin_old_il_acct', 'mo_sin_rcnt_tl', 'mths_since_rcnt_il', 'mths_since_recent_inq', 'revol_bal', 'tot_coll_amt', 'tot_cur_bal', 'tot_hi_cred_lim', 'total_bal_ex_mort', 'total_rev_hi_lim', 'acc_now_delinq', 'chargeoff_within_12_mths', 'initial_list_status', 'collections_12_mths_ex_med', 'application_type', 'inq_last_12m', 'inq_last_6mths', 'delinq_2yrs', 'home_ownership'] 0.656455936456\n",
      "26\n",
      "['acc_open_past_24mths', 'addr_state', 'avg_cur_bal', 'bc_open_to_buy', 'delinq_amnt', 'dti', 'loan_amnt', 'max_bal_bc', 'mo_sin_old_il_acct', 'mo_sin_rcnt_tl', 'mths_since_rcnt_il', 'mths_since_recent_inq', 'revol_bal', 'tot_coll_amt', 'tot_cur_bal', 'tot_hi_cred_lim', 'total_bal_ex_mort', 'total_rev_hi_lim', 'chargeoff_within_12_mths', 'initial_list_status', 'collections_12_mths_ex_med', 'application_type', 'inq_last_12m', 'inq_last_6mths', 'delinq_2yrs', 'home_ownership'] 0.656456162245\n",
      "25\n",
      "['acc_open_past_24mths', 'addr_state', 'avg_cur_bal', 'bc_open_to_buy', 'dti', 'loan_amnt', 'max_bal_bc', 'mo_sin_old_il_acct', 'mo_sin_rcnt_tl', 'mths_since_rcnt_il', 'mths_since_recent_inq', 'revol_bal', 'tot_coll_amt', 'tot_cur_bal', 'tot_hi_cred_lim', 'total_bal_ex_mort', 'total_rev_hi_lim', 'chargeoff_within_12_mths', 'initial_list_status', 'collections_12_mths_ex_med', 'application_type', 'inq_last_12m', 'inq_last_6mths', 'delinq_2yrs', 'home_ownership'] 0.656455659682\n",
      "24\n",
      "['acc_open_past_24mths', 'addr_state', 'avg_cur_bal', 'bc_open_to_buy', 'dti', 'loan_amnt', 'max_bal_bc', 'mo_sin_old_il_acct', 'mo_sin_rcnt_tl', 'mths_since_rcnt_il', 'mths_since_recent_inq', 'revol_bal', 'tot_coll_amt', 'tot_cur_bal', 'tot_hi_cred_lim', 'total_bal_ex_mort', 'total_rev_hi_lim', 'chargeoff_within_12_mths', 'initial_list_status', 'application_type', 'inq_last_12m', 'inq_last_6mths', 'delinq_2yrs', 'home_ownership'] 0.656455929172\n",
      "23\n",
      "['acc_open_past_24mths', 'addr_state', 'avg_cur_bal', 'bc_open_to_buy', 'dti', 'loan_amnt', 'max_bal_bc', 'mo_sin_rcnt_tl', 'mths_since_rcnt_il', 'mths_since_recent_inq', 'revol_bal', 'tot_coll_amt', 'tot_cur_bal', 'tot_hi_cred_lim', 'total_bal_ex_mort', 'total_rev_hi_lim', 'chargeoff_within_12_mths', 'initial_list_status', 'application_type', 'inq_last_12m', 'inq_last_6mths', 'delinq_2yrs', 'home_ownership'] 0.656455900038\n",
      "22\n",
      "['acc_open_past_24mths', 'addr_state', 'avg_cur_bal', 'bc_open_to_buy', 'dti', 'loan_amnt', 'max_bal_bc', 'mo_sin_rcnt_tl', 'mths_since_rcnt_il', 'mths_since_recent_inq', 'revol_bal', 'tot_coll_amt', 'tot_cur_bal', 'tot_hi_cred_lim', 'total_bal_ex_mort', 'total_rev_hi_lim', 'initial_list_status', 'application_type', 'inq_last_12m', 'inq_last_6mths', 'delinq_2yrs', 'home_ownership'] 0.656455572279\n",
      "21\n",
      "['acc_open_past_24mths', 'addr_state', 'avg_cur_bal', 'bc_open_to_buy', 'dti', 'loan_amnt', 'max_bal_bc', 'mo_sin_rcnt_tl', 'mths_since_recent_inq', 'revol_bal', 'tot_coll_amt', 'tot_cur_bal', 'tot_hi_cred_lim', 'total_bal_ex_mort', 'total_rev_hi_lim', 'initial_list_status', 'application_type', 'inq_last_12m', 'inq_last_6mths', 'delinq_2yrs', 'home_ownership'] 0.656455412041\n",
      "20\n",
      "['acc_open_past_24mths', 'addr_state', 'avg_cur_bal', 'bc_open_to_buy', 'dti', 'loan_amnt', 'max_bal_bc', 'mo_sin_rcnt_tl', 'mths_since_recent_inq', 'revol_bal', 'tot_coll_amt', 'tot_cur_bal', 'tot_hi_cred_lim', 'total_bal_ex_mort', 'total_rev_hi_lim', 'application_type', 'inq_last_12m', 'inq_last_6mths', 'delinq_2yrs', 'home_ownership'] 0.656456002008\n",
      "19\n",
      "['acc_open_past_24mths', 'addr_state', 'avg_cur_bal', 'bc_open_to_buy', 'dti', 'loan_amnt', 'max_bal_bc', 'mo_sin_rcnt_tl', 'revol_bal', 'tot_coll_amt', 'tot_cur_bal', 'tot_hi_cred_lim', 'total_bal_ex_mort', 'total_rev_hi_lim', 'application_type', 'inq_last_12m', 'inq_last_6mths', 'delinq_2yrs', 'home_ownership'] 0.656455448459\n",
      "18\n",
      "['acc_open_past_24mths', 'addr_state', 'avg_cur_bal', 'bc_open_to_buy', 'dti', 'loan_amnt', 'max_bal_bc', 'mo_sin_rcnt_tl', 'revol_bal', 'tot_coll_amt', 'tot_cur_bal', 'tot_hi_cred_lim', 'total_bal_ex_mort', 'total_rev_hi_lim', 'application_type', 'inq_last_12m', 'delinq_2yrs', 'home_ownership'] 0.656455652398\n",
      "17\n",
      "['acc_open_past_24mths', 'addr_state', 'avg_cur_bal', 'bc_open_to_buy', 'loan_amnt', 'max_bal_bc', 'mo_sin_rcnt_tl', 'revol_bal', 'tot_coll_amt', 'tot_cur_bal', 'tot_hi_cred_lim', 'total_bal_ex_mort', 'total_rev_hi_lim', 'application_type', 'inq_last_12m', 'delinq_2yrs', 'home_ownership'] 0.65645536834\n",
      "16\n",
      "['addr_state', 'avg_cur_bal', 'bc_open_to_buy', 'loan_amnt', 'max_bal_bc', 'mo_sin_rcnt_tl', 'revol_bal', 'tot_coll_amt', 'tot_cur_bal', 'tot_hi_cred_lim', 'total_bal_ex_mort', 'total_rev_hi_lim', 'application_type', 'inq_last_12m', 'delinq_2yrs', 'home_ownership'] 0.656455623264\n",
      "15\n",
      "['addr_state', 'avg_cur_bal', 'bc_open_to_buy', 'loan_amnt', 'max_bal_bc', 'mo_sin_rcnt_tl', 'revol_bal', 'tot_coll_amt', 'tot_cur_bal', 'tot_hi_cred_lim', 'total_bal_ex_mort', 'total_rev_hi_lim', 'application_type', 'delinq_2yrs', 'home_ownership'] 0.656455419325\n",
      "14\n",
      "['addr_state', 'avg_cur_bal', 'bc_open_to_buy', 'loan_amnt', 'max_bal_bc', 'mo_sin_rcnt_tl', 'revol_bal', 'tot_coll_amt', 'tot_cur_bal', 'tot_hi_cred_lim', 'total_bal_ex_mort', 'total_rev_hi_lim', 'delinq_2yrs', 'home_ownership'] 0.656456009291\n",
      "13\n",
      "['addr_state', 'avg_cur_bal', 'bc_open_to_buy', 'loan_amnt', 'max_bal_bc', 'mo_sin_rcnt_tl', 'revol_bal', 'tot_coll_amt', 'tot_cur_bal', 'tot_hi_cred_lim', 'total_bal_ex_mort', 'total_rev_hi_lim', 'home_ownership'] 0.656455419325\n",
      "12\n",
      "['avg_cur_bal', 'bc_open_to_buy', 'loan_amnt', 'max_bal_bc', 'mo_sin_rcnt_tl', 'revol_bal', 'tot_coll_amt', 'tot_cur_bal', 'tot_hi_cred_lim', 'total_bal_ex_mort', 'total_rev_hi_lim', 'home_ownership'] 0.656454989596\n",
      "11\n",
      "['avg_cur_bal', 'bc_open_to_buy', 'loan_amnt', 'max_bal_bc', 'mo_sin_rcnt_tl', 'revol_bal', 'tot_coll_amt', 'tot_cur_bal', 'tot_hi_cred_lim', 'total_bal_ex_mort', 'total_rev_hi_lim'] 0.65645425396\n",
      "10\n",
      "['avg_cur_bal', 'bc_open_to_buy', 'loan_amnt', 'max_bal_bc', 'revol_bal', 'tot_coll_amt', 'tot_cur_bal', 'tot_hi_cred_lim', 'total_bal_ex_mort', 'total_rev_hi_lim'] 0.656455011447\n",
      "9\n",
      "['avg_cur_bal', 'bc_open_to_buy', 'loan_amnt', 'max_bal_bc', 'revol_bal', 'tot_coll_amt', 'tot_cur_bal', 'tot_hi_cred_lim', 'total_rev_hi_lim'] 0.656453911633\n",
      "8\n",
      "['avg_cur_bal', 'bc_open_to_buy', 'loan_amnt', 'max_bal_bc', 'revol_bal', 'tot_cur_bal', 'tot_hi_cred_lim', 'total_rev_hi_lim'] 0.6561426571\n",
      "7\n",
      "['avg_cur_bal', 'bc_open_to_buy', 'loan_amnt', 'max_bal_bc', 'revol_bal', 'tot_hi_cred_lim', 'total_rev_hi_lim'] 0.655236549076\n",
      "6\n",
      "['avg_cur_bal', 'bc_open_to_buy', 'loan_amnt', 'max_bal_bc', 'revol_bal', 'total_rev_hi_lim'] 0.655391309602\n",
      "5\n",
      "['avg_cur_bal', 'loan_amnt', 'max_bal_bc', 'revol_bal', 'total_rev_hi_lim'] 0.653702855361\n",
      "4\n",
      "['avg_cur_bal', 'loan_amnt', 'revol_bal', 'total_rev_hi_lim'] 0.648957531113\n",
      "3\n",
      "['avg_cur_bal', 'revol_bal', 'total_rev_hi_lim'] 0.63285482507\n",
      "2\n",
      "['revol_bal', 'total_rev_hi_lim'] 0.622681534651\n",
      "1\n",
      "['total_rev_hi_lim'] 0.592993071495\n"
     ]
    }
   ],
   "source": [
    "###  Step-wise Backward Selection\n",
    "d = X_sel_train.shape[1] # total no. of predictors\n",
    "\n",
    "# Keep track of current set of chosen predictors\n",
    "current_predictors = range(d)\n",
    "\n",
    "# Keep track of the best subset of predictors\n",
    "best_subset = [] \n",
    "\n",
    "# Iterate over all possible subset sizes, d predictors to 1 predictor\n",
    "for size in range(d - 1, 0, -1): # stop before 0 to avoid choosing an empty set of predictors\n",
    "    max_auc = -1e10 # set some initial small value for max R^2\n",
    "    worst_predictor = -1 # set some throwaway initial number for the worst predictor to remove\n",
    "    \n",
    "    print size\n",
    "    \n",
    "    # Iterate over current set of predictors (for potential elimination)\n",
    "    for i in current_predictors:\n",
    "        # Create copy of current predictors, and remove predictor 'i'\n",
    "        temp = current_predictors[:]\n",
    "        temp.remove(i)\n",
    "                                    \n",
    "        # Use only a subset of predictors in the training data\n",
    "        x_subset = X_sel_train.values[:, temp]\n",
    "        \n",
    "         # Fit and evaluate recall\n",
    "        logit.fit(x_subset, y_train)\n",
    "\n",
    "        y_pred_logit = logit.predict_proba(x_subset)[:, 1]\n",
    "        auc = roc_auc_score(y_train, y_pred_logit)\n",
    "        \n",
    "        # Check if we get a higher AUC than current max AUC, if so, update\n",
    "        if(auc > max_auc):\n",
    "            max_auc = auc\n",
    "            worst_predictor = i\n",
    "    # Remove worst predictor from current set of predictors\n",
    "    current_predictors.remove(worst_predictor)\n",
    "    print [features[i] for i in current_predictors], max_auc"
   ]
  },
  {
   "cell_type": "markdown",
   "metadata": {},
   "source": [
    "### 2.2.4 Features Selection Conclusion\n",
    "\n",
    "Based on the three feature selection methods and analysis of each features, the predictors I choose to continue with include:\n",
    "'loan_amnt','term', 'emp_length', 'home_ownership', 'annual_inc', 'verification_status', 'purpose',\n",
    "  'title', 'addr_state','delinq_2yrs', 'open_acc', 'revol_util','open_acc_6m', 'open_il_12m', 'total_cu_tl',  'mo_sin_old_il_acct', 'mort_acc',   'mths_since_recent_bc', 'num_actv_rev_tl', 'pct_tl_nvr_dlq', 'percent_bc_gt_75', 'avg_cur_bal','bc_open_to_buy','total_rev_hi_lim', 'revol_bal'."
   ]
  },
  {
   "cell_type": "code",
   "execution_count": 471,
   "metadata": {
    "collapsed": false
   },
   "outputs": [
    {
     "data": {
      "text/plain": [
       "25"
      ]
     },
     "execution_count": 471,
     "metadata": {},
     "output_type": "execute_result"
    }
   ],
   "source": [
    "feature = ['loan_amnt','term', 'emp_length', 'home_ownership', 'annual_inc', 'verification_status', 'purpose',\n",
    "          'title', 'addr_state','delinq_2yrs', 'open_acc', 'revol_util','open_acc_6m', 'open_il_12m', \n",
    "           'total_cu_tl', 'mo_sin_old_rev_tl_op',  'mort_acc',   'mths_since_recent_bc',\n",
    "          'num_actv_rev_tl', 'pct_tl_nvr_dlq', 'percent_bc_gt_75', 'avg_cur_bal','bc_open_to_buy','total_rev_hi_lim',\n",
    "           'revol_bal']\n",
    "len(feature)"
   ]
  },
  {
   "cell_type": "markdown",
   "metadata": {},
   "source": [
    "# 3. Classification"
   ]
  },
  {
   "cell_type": "markdown",
   "metadata": {},
   "source": [
    "## 3.1 Performance Evaluation Metrics"
   ]
  },
  {
   "cell_type": "markdown",
   "metadata": {},
   "source": [
    "I defined a function called \"predict_table\", which returns a comprehensive table of the classification results including True(False) Positive(Nagative) predictions as well as recall and precisions on default (class 1) and non-default (class 0) groups. Also I calculated the Accuracy and AUC of the classification results and \"Pass rate\" defined as the proportion of predicted non-default loans among all of the loans. All of the evaluation metrics are calculated on test data set"
   ]
  },
  {
   "cell_type": "code",
   "execution_count": 478,
   "metadata": {
    "collapsed": true
   },
   "outputs": [],
   "source": [
    "def predict_table(y, y_hat):\n",
    "    tp = 0.0\n",
    "    tn = 0.0\n",
    "    fp = 0.0\n",
    "    fn = 0.0\n",
    "    for i in range(len(y)):\n",
    "        if(y[i] == 1 and y_hat[i] == 1):\n",
    "            tp += 1.0\n",
    "        elif(y[i] == 0 and y_hat[i] == 0):\n",
    "            tn += 1.0\n",
    "        elif(y[i] == 1 and y_hat[i] == 0):\n",
    "            fn += 1.0\n",
    "        elif(y[i] == 0 and y_hat[i] == 1):\n",
    "            fp += 1.0\n",
    "        else:\n",
    "            print \"Something is wrong with labels!\"\n",
    "    print \"Total number of test data: \" + str(len(y))\n",
    "    print \"True  Positive:            \" + str(tp)\n",
    "    print \"True  Negative:            \" + str(tn)\n",
    "    print \"False Positive:            \" + str(fp)\n",
    "    print \"False Negative:            \" + str(fn)\n",
    "    print \"Recall    on class 1:      \" + str(tp/(tp + fn))\n",
    "    print \"Precision on class 1:      \" + str(tp/(tp + fp))\n",
    "    print \"Recall    on class 0:      \" + str(tn/(tn + fp))\n",
    "    print \"Precision on class 0:      \" + str(tn/(tn + fn))\n",
    "    print \"Accuracy:                  \" + str((tp + tn)/len(y))\n",
    "    print \"Pass rate:            \" + str((tn + fn)/len(y))\n",
    "#     return (tn + fn)/len(y), (tp + tn)/len(y), tp/(tp + fn), tn/(tn + fn)"
   ]
  },
  {
   "cell_type": "markdown",
   "metadata": {},
   "source": [
    "With the predictors I selected in the last step, I tried to classify the loans to \"default\" and \"non-default\" with different classification models: Logistic Regression, LDA and QDA, Random Forest, and Gradient Boost."
   ]
  },
  {
   "cell_type": "code",
   "execution_count": 559,
   "metadata": {
    "collapsed": true
   },
   "outputs": [],
   "source": [
    "X_sel_train = X_train[feature]\n",
    "X_sel_test = X_test[feature]"
   ]
  },
  {
   "cell_type": "markdown",
   "metadata": {
    "collapsed": true
   },
   "source": [
    "## 3.2 Classification Models\n",
    "\n",
    "### 3.2.1 Logistic Regression Model "
   ]
  },
  {
   "cell_type": "code",
   "execution_count": 504,
   "metadata": {
    "collapsed": false
   },
   "outputs": [
    {
     "name": "stdout",
     "output_type": "stream",
     "text": [
      "**************************************************\n",
      " Sklearn logistic regression Model performance report\n",
      "**************************************************\n",
      "Total number of test data: 7473\n",
      "True  Positive:            399.0\n",
      "True  Negative:            4541.0\n",
      "False Positive:            348.0\n",
      "False Negative:            2185.0\n",
      "Recall    on class 1:      0.154411764706\n",
      "Precision on class 1:      0.534136546185\n",
      "Recall    on class 0:      0.92881979955\n",
      "Precision on class 0:      0.675141242938\n",
      "Accuracy:                  0.661046433828\n",
      "Pass rate:            0.90004014452\n",
      "auc score =  0.654660316614\n"
     ]
    }
   ],
   "source": [
    "clf_slc = Logit()\n",
    "clf_slc.fit(X_train_sel, y_train)\n",
    "y_predict_slc = clf_slc.predict(X_test_sel)\n",
    "y_predict_prob_slc = clf_slc.predict_proba(X_test_sel)[:,1]\n",
    "\n",
    "fpr_slc, tpr_slc, _ = roc_curve(y_test, y_predict_prob_slc)\n",
    "\n",
    "print \"**************************************************\"\n",
    "print \" Sklearn logistic regression Model performance report\"\n",
    "print \"**************************************************\"\n",
    "predict_table(y_test, y_predict_slc)\n",
    "print \"auc score = \", roc_auc_score(y_test, y_predict_prob_slc)"
   ]
  },
  {
   "cell_type": "markdown",
   "metadata": {},
   "source": [
    "### 3.2.2 LDA and QDA"
   ]
  },
  {
   "cell_type": "code",
   "execution_count": 482,
   "metadata": {
    "collapsed": false
   },
   "outputs": [
    {
     "name": "stdout",
     "output_type": "stream",
     "text": [
      "**************************************************\n",
      " LDA Model performance report\n",
      "**************************************************\n",
      "Total number of test data: 7473\n",
      "True  Positive:            813.0\n",
      "True  Negative:            4325.0\n",
      "False Positive:            564.0\n",
      "False Negative:            1771.0\n",
      "Recall    on class 1:      0.314628482972\n",
      "Precision on class 1:      0.590413943355\n",
      "Recall    on class 0:      0.884638985478\n",
      "Precision on class 0:      0.709481627297\n",
      "Accuracy:                  0.687541817209\n",
      "Pass rate:            0.815736651947\n",
      "auc score =  0.696830789027\n",
      "**************************************************\n",
      " QDA performance report\n",
      "**************************************************\n",
      "Total number of test data: 7473\n",
      "True  Positive:            450.0\n",
      "True  Negative:            4429.0\n",
      "False Positive:            460.0\n",
      "False Negative:            2134.0\n",
      "Recall    on class 1:      0.174148606811\n",
      "Precision on class 1:      0.494505494505\n",
      "Recall    on class 0:      0.90591122929\n",
      "Precision on class 0:      0.674843821423\n",
      "Accuracy:                  0.652883714706\n",
      "Pass rate:            0.878228288505\n",
      "auc score =  0.642326719742\n"
     ]
    }
   ],
   "source": [
    "clf_lda = LDA()\n",
    "clf_lda.fit(X_train_sel, y_train)\n",
    "y_predict_lda = clf_lda.predict(X_test_sel)\n",
    "y_predict_prob_lda = clf_lda.predict_proba(X_test_sel)[:,1]\n",
    "\n",
    "fpr_lda, tpr_lda, _ = roc_curve(y_test, y_predict_prob_lda)\n",
    "\n",
    "clf_qda = QDA()\n",
    "clf_qda.fit(X_train_sel, y_train)\n",
    "y_predict_qda = clf_qda.predict(X_test_sel)\n",
    "y_predict_prob_qda = clf_qda.predict_proba(X_test_sel)[:,1]\n",
    "\n",
    "fpr_qda, tpr_qda, _ = roc_curve(y_test, y_predict_prob_qda)\n",
    "\n",
    "\n",
    "print \"**************************************************\"\n",
    "print \" LDA Model performance report\"\n",
    "print \"**************************************************\"\n",
    "predict_table(y_test, y_predict_lda)\n",
    "print \"auc score = \", roc_auc_score(y_test, y_predict_prob_lda)\n",
    "\n",
    "print \"**************************************************\"\n",
    "print \" QDA performance report\"\n",
    "print \"**************************************************\"\n",
    "predict_table(y_test, y_predict_qda)\n",
    "print \"auc score = \", roc_auc_score(y_test, y_predict_prob_qda)"
   ]
  },
  {
   "cell_type": "markdown",
   "metadata": {},
   "source": [
    "### 3.2.3 Random Forest"
   ]
  },
  {
   "cell_type": "code",
   "execution_count": 486,
   "metadata": {
    "collapsed": false
   },
   "outputs": [
    {
     "name": "stdout",
     "output_type": "stream",
     "text": [
      "5-fold cross validation:\n",
      "Trees: 200 Depth: 4 Score: 0.613333333333 AUC 0.781481481481\n",
      "Trees: 200 Depth: 6 Score: 0.693333333333 AUC 0.768759018759\n",
      "Trees: 200 Depth: 8 Score: 0.68 AUC 0.710185185185\n",
      "Trees: 300 Depth: 4 Score: 0.68 AUC 0.81319047619\n",
      "Trees: 300 Depth: 6 Score: 0.613333333333 AUC 0.747857142857\n",
      "Trees: 300 Depth: 8 Score: 0.653333333333 AUC 0.674777777778\n",
      "Trees: 400 Depth: 4 Score: 0.626666666667 AUC 0.776\n",
      "Trees: 400 Depth: 6 Score: 0.653333333333 AUC 0.710206349206\n",
      "Trees: 400 Depth: 8 Score: 0.613333333333 AUC 0.697873015873\n",
      "Trees: 500 Depth: 4 Score: 0.6 AUC 0.69407022607\n",
      "Trees: 500 Depth: 6 Score: 0.64 AUC 0.746682539683\n",
      "Trees: 500 Depth: 8 Score: 0.72 AUC 0.754586580087\n",
      "Trees: 600 Depth: 4 Score: 0.666666666667 AUC 0.732347282347\n",
      "Trees: 600 Depth: 6 Score: 0.653333333333 AUC 0.728646353646\n",
      "Trees: 600 Depth: 8 Score: 0.613333333333 AUC 0.727018352018\n",
      "Trees: 700 Depth: 4 Score: 0.586666666667 AUC 0.67904040404\n",
      "Trees: 700 Depth: 6 Score: 0.706666666667 AUC 0.742779220779\n",
      "Trees: 700 Depth: 8 Score: 0.653333333333 AUC 0.698386243386\n",
      "**************************************************\n",
      " Random Forest Model performance report\n",
      "**************************************************\n",
      "Total number of test data: 7473\n",
      "True  Positive:            714.0\n",
      "True  Negative:            4435.0\n",
      "False Positive:            454.0\n",
      "False Negative:            1870.0\n",
      "Recall    on class 1:      0.276315789474\n",
      "Precision on class 1:      0.611301369863\n",
      "Recall    on class 0:      0.907138474126\n",
      "Precision on class 0:      0.70340999207\n",
      "Accuracy:                  0.689013782952\n",
      "Pass rate:            0.843704001071\n",
      "auc score =  0.697186044111\n"
     ]
    }
   ],
   "source": [
    "X_train_sel = X_train[feature]\n",
    "X_test_sel = X_test[feature]\n",
    "\n",
    "n_obs = X_train.shape[1]\n",
    "#Parameters for tuning\n",
    "n_trees = np.arange(200, 800, 100)  # Trees and depth are explored on an exponentially growing space,\n",
    "depths = np.arange(4, 10, 2)   # since it is assumed that trees and depth will add accuracy in a decaying fashion.\n",
    "\n",
    "# To keep track of the best model\n",
    "best_score = 0\n",
    "best_recall = 0\n",
    "best_auc = 0\n",
    "\n",
    "# Run grid search for model with 5-fold cross validation\n",
    "print '5-fold cross validation:'\n",
    "\n",
    "for trees in n_trees:\n",
    "    for depth in depths:\n",
    "        \n",
    "        # Cross validation for every experiment\n",
    "        kf = KFold(n_obs, 5, shuffle = True)\n",
    "        scores = []\n",
    "        recalls = []\n",
    "        auc = []\n",
    "        for train_indices, validation_indices in kf:\n",
    "            # Generate training data\n",
    "            x_train_cv = X_train_sel.iloc[train_indices, :]\n",
    "            y_train_cv = y_train[train_indices]\n",
    "            \n",
    "#             print x_train_cv.shape, y_train_cv.shape\n",
    "            # Generate validation data\n",
    "            x_validate = X_train_sel.iloc[validation_indices, :]\n",
    "            y_validate = y_train[validation_indices]\n",
    "            \n",
    "            # Fit random forest on training data\n",
    "            rf = RandomForest(n_estimators=trees, max_depth=depth)\n",
    "            rf.fit(x_train_cv, y_train_cv)\n",
    "            # Score on validation data\n",
    "            scores += [rf.score(x_validate, y_validate)]\n",
    "            y_hat_validate = rf.predict(x_validate)\n",
    "            recalls += [recall(y_validate, y_hat_validate)]\n",
    "            \n",
    "            y_pred_logit = rf.predict_proba(x_validate)[:, 1]\n",
    "            auc += [roc_auc_score(y_validate, y_pred_logit)]\n",
    "        # Record and report accuracy\n",
    "        average_score = np.mean(scores)\n",
    "        recall_rate = np.mean(recalls)\n",
    "        avg_auc = np.mean(auc)\n",
    "        print \"Trees:\", trees, \"Depth:\", depth, \"Score:\", average_score, \"AUC\", avg_auc\n",
    "        \n",
    "        # Update our record of the best parameters see so far\n",
    "        if average_score > best_score:\n",
    "            best_score = average_score\n",
    "            best_trees = trees\n",
    "            best_depth = depth\n",
    "        if avg_auc > best_auc:\n",
    "            best_auc = avg_auc\n",
    "            best_auc_trees = trees\n",
    "            best_auc_depth = depth\n",
    "print \"Best number of trees and best tree depth according to accuracy is\", best_trees, best_depth\n",
    "print \"Best number of trees and best tree depth according to AUC is\", best_auc_trees, best_auc_depth"
   ]
  },
  {
   "cell_type": "code",
   "execution_count": 491,
   "metadata": {
    "collapsed": false
   },
   "outputs": [
    {
     "name": "stdout",
     "output_type": "stream",
     "text": [
      "**************************************************\n",
      " Random Forest Model performance report\n",
      "**************************************************\n",
      "Total number of test data: 7473\n",
      "True  Positive:            456.0\n",
      "True  Negative:            4645.0\n",
      "False Positive:            244.0\n",
      "False Negative:            2128.0\n",
      "Recall    on class 1:      0.176470588235\n",
      "Precision on class 1:      0.651428571429\n",
      "Recall    on class 0:      0.950092043363\n",
      "Precision on class 0:      0.685811309612\n",
      "Accuracy:                  0.682590659708\n",
      "Pass rate:            0.906329452696\n",
      "auc score =  0.69099045244\n"
     ]
    }
   ],
   "source": [
    "rf = RandomForest(n_estimators = 300, max_depth = 8, random_state = 8)\n",
    "rf.fit(X_train_sel, y_train)\n",
    "\n",
    "y_predict_rf = rf.predict(X_test_sel)\n",
    "y_predict_prob_rf = rf.predict_proba(X_test_sel)[:,1]\n",
    "\n",
    "fpr_rf, tpr_rf, _ = roc_curve(y_test, y_predict_prob_rf)\n",
    "\n",
    "\n",
    "print \"**************************************************\"\n",
    "print \" Random Forest Model performance report\"\n",
    "print \"**************************************************\"\n",
    "predict_table(y_test, y_predict_rf)\n",
    "print \"auc score = \", roc_auc_score(y_test, y_predict_prob_rf)"
   ]
  },
  {
   "cell_type": "markdown",
   "metadata": {},
   "source": [
    "### 3.2.4 Gradient Boost"
   ]
  },
  {
   "cell_type": "code",
   "execution_count": 498,
   "metadata": {
    "collapsed": false
   },
   "outputs": [
    {
     "name": "stdout",
     "output_type": "stream",
     "text": [
      "# Tuning hyper-parameters for recall\n",
      "()\n",
      "Best parameters set found on development set:\n",
      "()\n",
      "{'n_estimators': 100, 'learning_rate': 1.0, 'max_depth': 1}\n",
      "()\n"
     ]
    }
   ],
   "source": [
    "# Set the parameters by cross-validation\n",
    "tuned_parameters = [{'n_estimators': [50, 100, 200], 'learning_rate': [1.0, 5.0, 10.0], 'max_depth': [1, 3, 5]}]\n",
    "\n",
    "scores = ['recall']\n",
    "for score in scores:\n",
    "    print(\"# Tuning hyper-parameters for %s\" % score)\n",
    "    print()\n",
    "\n",
    "    clf = GridSearchCV(GradientBoostingClassifier(), tuned_parameters, cv=5,\n",
    "                       scoring='%s_macro' % score)\n",
    "    clf.fit(X_train_sel, y_train)\n",
    "\n",
    "    print(\"Best parameters set found on development set:\")\n",
    "    print()\n",
    "    print(clf.best_params_)\n",
    "   \n",
    "    print()"
   ]
  },
  {
   "cell_type": "code",
   "execution_count": 500,
   "metadata": {
    "collapsed": false
   },
   "outputs": [
    {
     "name": "stdout",
     "output_type": "stream",
     "text": [
      "**************************************************\n",
      "Boosting Model performance report\n",
      "**************************************************\n",
      "Total number of test data: 7473\n",
      "True  Positive:            853.0\n",
      "True  Negative:            4249.0\n",
      "False Positive:            640.0\n",
      "False Negative:            1731.0\n",
      "Recall    on class 1:      0.330108359133\n",
      "Precision on class 1:      0.571332886805\n",
      "Recall    on class 0:      0.86909388423\n",
      "Precision on class 0:      0.710535117057\n",
      "Accuracy:                  0.682724474776\n",
      "Pass rate:            0.800214104108\n",
      "auc score =  0.69267316469\n"
     ]
    }
   ],
   "source": [
    "clf_boost = GradientBoostingClassifier(n_estimators=100, learning_rate=1.0, max_depth=1, random_state=0)\n",
    "clf_boost.fit(X_train_sel, y_train)\n",
    "y_predict_boost = clf_boost.predict(X_test_sel)\n",
    "y_predict_prob_boost = clf_boost.predict_proba(X_test_sel)[:,1]\n",
    "\n",
    "\n",
    "fpr_boost, tpr_boost, _ = roc_curve(y_test, y_predict_prob_boost)\n",
    "\n",
    "print \"**************************************************\"\n",
    "print \"Boosting Model performance report\"\n",
    "print \"**************************************************\"\n",
    "predict_table(y_test, y_predict_boost)\n",
    "print \"auc score = \", roc_auc_score(y_test, y_predict_prob_boost)"
   ]
  },
  {
   "cell_type": "markdown",
   "metadata": {},
   "source": [
    "### 3.2.5 Comparison of Different Models"
   ]
  },
  {
   "cell_type": "code",
   "execution_count": 505,
   "metadata": {
    "collapsed": false
   },
   "outputs": [
    {
     "data": {
      "image/png": "[encoded data removed]",
      "text/plain": [
       "<matplotlib.figure.Figure at 0x7f87b9153390>"
      ]
     },
     "metadata": {},
     "output_type": "display_data"
    }
   ],
   "source": [
    "plt.plot(fpr_slc, tpr_slc, label = 'Logistic Regression')\n",
    "plt.plot(fpr_lda, tpr_lda, label = 'LDA')\n",
    "plt.plot(fpr_qda, tpr_qda, label = 'QDA')\n",
    "plt.plot(fpr_rf, tpr_rf, label = 'Random Forest')\n",
    "plt.plot(fpr_boost, tpr_boost, label = 'Gradient Boosting')\n",
    "plt.xlabel('False Positive Rate')\n",
    "plt.ylabel('True Positive Rate')\n",
    "plt.plot([0, 1], [0, 1], 'k--')\n",
    "plt.legend(loc = 'best')\n",
    "plt.grid('on')\n",
    "plt.savefig('roc-models.png')"
   ]
  },
  {
   "cell_type": "markdown",
   "metadata": {},
   "source": [
    "From the curves above we can find that LDA, Random Forest, Gradient Boosting have similar performace and the ROC's are mostly overlapping with each other. QDA and Logistic Regression underperform the other three models. \n",
    "\n",
    "The fact that Random Forest and Gradient Boosting have outstanding performance compared to the other classification  models is not surprising to me. Actually, the ensemble models usually outperform single classification models in the real world, especially when there are many features and each feature's predicting power is very weak.\n",
    "\n",
    "The fact the LDA outperform QDA is likely due to the excessive flexibility of the covariance matrix in QDA. The high flexibility of QDA is very likely to result in over-fitting the training data and worsen the results on testing data set."
   ]
  },
  {
   "cell_type": "markdown",
   "metadata": {},
   "source": [
    "## 3.3 Performance Improvements"
   ]
  },
  {
   "cell_type": "markdown",
   "metadata": {},
   "source": [
    "The pass rate in the above models are all very high, meaning that most of the loans in the testing data set are predicted to be non-default. This is because the default and non-default loans in the data set is unbalanced with about 65% non-default loans and 35% default loans. Note that the percentage of default loans (35%) seems higher than usual, which is because I excluded the loans with \"Current\" status at the very beginning. It is expected that the percentage of default loans among \"Current\" loans will be much lower, because as time goes on, larger proportion of principles will be paid back, so people will have low motivation and less financial pressure to default on the loan.\n",
    "\n",
    "The extremely high pass rate (proportion of predicted non-default loans) is the result of the prevalence of non-default loans in the data set. A classification model with high pass rate, although might make accuracy rate look good, hurts the investors because of the low precision on predicted non-default loans. Recall on default loans (among the actual default loans, what percentage of them are predicted to be default) as well as the precision on predicted non-default loans (among the predicted non-default loans, what percentage of them actually did not default) are two metrics closely related with the expected loss of lenders. In this part, I will focus on lowering the pass rate and improving the recall on default loans as well as the precision on predicted non-default loans.\n",
    "\n",
    "Two ways I used to lowering the pass rate and improve the recall and precision includes re-weighting the classes and adjusting the threshold of classification. I will go on with Logistic regression in this part."
   ]
  },
  {
   "cell_type": "code",
   "execution_count": 516,
   "metadata": {
    "collapsed": true
   },
   "outputs": [],
   "source": [
    "def predict_table(y, y_hat):\n",
    "    tp = 0.0\n",
    "    tn = 0.0\n",
    "    fp = 0.0\n",
    "    fn = 0.0\n",
    "    for i in range(len(y)):\n",
    "        if(y[i] == 1 and y_hat[i] == 1):\n",
    "            tp += 1.0\n",
    "        elif(y[i] == 0 and y_hat[i] == 0):\n",
    "            tn += 1.0\n",
    "        elif(y[i] == 1 and y_hat[i] == 0):\n",
    "            fn += 1.0\n",
    "        elif(y[i] == 0 and y_hat[i] == 1):\n",
    "            fp += 1.0\n",
    "        else:\n",
    "            print \"Something is wrong with labels!\"\n",
    "    return (tn + fn)/len(y), (tp + tn)/len(y), tp/(tp + fn), tn/(tn + fn)"
   ]
  },
  {
   "cell_type": "markdown",
   "metadata": {},
   "source": [
    "### 3.3.1 Re-weight Classes"
   ]
  },
  {
   "cell_type": "markdown",
   "metadata": {},
   "source": []
  },
  {
   "cell_type": "code",
   "execution_count": 607,
   "metadata": {
    "collapsed": false
   },
   "outputs": [
    {
     "data": {
      "image/png": "[encoded data removed]",
      "text/plain": [
       "<matplotlib.figure.Figure at 0x7f87b99f0550>"
      ]
     },
     "metadata": {},
     "output_type": "display_data"
    },
    {
     "data": {
      "image/png": "[encoded data removed]",
      "text/plain": [
       "<matplotlib.figure.Figure at 0x7f87b302b610>"
      ]
     },
     "metadata": {},
     "output_type": "display_data"
    }
   ],
   "source": [
    "weights = np.arange(1.0, 8, 0.5)\n",
    "pass_rates = []\n",
    "accuracies = []\n",
    "recall_on_1s = []\n",
    "precision_on_0s = []\n",
    "auc_scores = []\n",
    "for weight in weights:\n",
    "#     try:\n",
    "    clf_slc = Logit(class_weight = {1:weight, 0:1.0})\n",
    "    clf_slc.fit(X_train_sel, y_train)\n",
    "    y_predict_slc = clf_slc.predict(X_test_sel)\n",
    "    y_predict_prob_slc = clf_slc.predict_proba(X_test_sel)[:,1]\n",
    "    pass_rate, accuracy, recall_on_1, precision_on_0 = predict_table(y_test, y_predict_slc)\n",
    "    pass_rates.append(pass_rate)\n",
    "    accuracies.append(accuracy)\n",
    "    recall_on_1s.append(recall_on_1)\n",
    "    precision_on_0s.append(precision_on_0)\n",
    "    auc_score = roc_auc_score(y_test, y_predict_prob_slc)\n",
    "    auc_scores.append(auc_score)\n",
    "    \n",
    "fig = plt.figure()\n",
    "ax = fig.add_subplot(111)    \n",
    "box = ax.get_position()\n",
    "ax.set_position([box.x0, box.y0, box.width * 0.8, box.height])\n",
    "\n",
    "ax.plot(weights, recall_on_1s, '.-',label = 'Recall on default')\n",
    "ax.plot(weights, precision_on_0s, '.-',label = 'Precision on non-default')\n",
    "# ax.plot(weights, accuracies, '.-',label = 'Accuracy')\n",
    "ax.plot(weights, auc_scores, '.-',label = 'AUC score')\n",
    "ax.plot(weights, pass_rates, '.-',label = 'Pass Rate')\n",
    "# Put a legend to the right of the current axis\n",
    "ax.legend(loc='center left', bbox_to_anchor=(1, 0.5))\n",
    "ax.set_xlabel('Weight Ratio (default / non-default)')\n",
    "ax.grid('on')\n",
    "plt.show()\n",
    "\n",
    "fig = plt.figure()\n",
    "ax1 = fig.add_subplot(111)    \n",
    "box = ax.get_position()\n",
    "ax1.set_position([box.x0, box.y0, box.width * 0.8, box.height])\n",
    "\n",
    "default = [1 - i for i in recall_on_1s]\n",
    "ax1.plot(weights, default, '.-',label = 'Default rate (1 - precision on non-default)')\n",
    "ax1.plot(weights, pass_rates, '.-',label = 'Pass Rate')\n",
    "# Put a legend to the right of the current axis\n",
    "ax1.legend(loc='center left', bbox_to_anchor=(1, 0.5))\n",
    "\n",
    "\n",
    "plt.xlabel('Weight Ratio (default / non-default)')\n",
    "plt.grid('on')\n",
    "plt.show()"
   ]
  },
  {
   "cell_type": "markdown",
   "metadata": {},
   "source": [
    "### 3.3.2 Adjust Threshold"
   ]
  },
  {
   "cell_type": "code",
   "execution_count": 532,
   "metadata": {
    "collapsed": true
   },
   "outputs": [],
   "source": [
    "def sigmoid(a):\n",
    "    if(a > 15):\n",
    "        return 0.99999999\n",
    "    elif(a < -15):\n",
    "        return 0.00000001\n",
    "    else:\n",
    "        return 1.0 / (1 + np.exp(-a))\n",
    "\n",
    "def NewtonMethod(train_data, train_label):\n",
    "    \n",
    "    alpha = 0.01\n",
    "    \n",
    "    new_train_data = np.ones((len(train_data), 1), dtype = float)\n",
    "    new_train_data = np.append(new_train_data, train_data, axis = 1)\n",
    "\n",
    "    num_features = len(new_train_data[0])\n",
    "\n",
    "    w_prev = np.zeros(num_features)\n",
    "\n",
    "    \n",
    "    y = np.array([sigmoid(np.dot(w_prev, new_train_data[i])) for i in range(len(new_train_data))])\n",
    "\n",
    "    R = np.diag(np.multiply(y, 1- y))\n",
    "    \n",
    "\n",
    "    part1 = np.linalg.inv(alpha * np.identity(num_features) + np.dot(np.dot(new_train_data.transpose(), R), new_train_data))\n",
    "    part2 = np.dot(new_train_data.transpose(), (y - train_label)) + alpha * w_prev\n",
    "\n",
    "    w_next = w_prev - np.dot(part1, part2)\n",
    "\n",
    "\n",
    "    count = 0\n",
    "\n",
    "    while((count == 0) or ((count <= 100) and (np.linalg.norm(w_next - w_prev)/np.linalg.norm(w_prev) >= 0.001))):\n",
    "        \n",
    "        w_prev = w_next\n",
    "\n",
    "        y = np.array([sigmoid(np.dot(w_prev, new_train_data[i])) for i in range(len(new_train_data))])\n",
    "        R = np.diag(np.multiply(y, 1- y))\n",
    "        \n",
    "        part1 = np.linalg.inv(alpha * np.identity(num_features) + np.dot(np.dot(new_train_data.transpose(), R), new_train_data))\n",
    "        part2 = np.dot(new_train_data.transpose(), (y - train_label)) + alpha * w_prev\n",
    "        \n",
    "        w_next = w_prev - np.dot(part1, part2)\n",
    "        count += 1\n",
    "    \n",
    "    w0 = w_next[0]\n",
    "    w = np.array(w_next[1:])\n",
    "    return w0, w\n",
    "\n",
    "def getPrediction(w0, w, test_data, test_label, threshold = 0.5):\n",
    "    \"\"\"\n",
    "    Input: w0 and w are parameters from training data\n",
    "    Return: predict accuracy on test dataset. \n",
    "    \"\"\"\n",
    "    y_pred = []\n",
    "    for i in range(len(test_label)):\n",
    "        predit = sigmoid(np.dot(w, test_data[i]) + w0) > threshold\n",
    "        if(predit):\n",
    "            y_pred.append(1.0)\n",
    "        else:\n",
    "            y_pred.append(0.0)\n",
    "    return y_pred\n",
    "\n",
    "def getProbability(w0, w, test_data, test_label, threshold = 0.5):\n",
    "    y_prob = []\n",
    "    for i in range(len(test_label)):\n",
    "        predit = sigmoid(np.dot(w, test_data[i]) + w0) > threshold\n",
    "        y_prob.append(predit)\n",
    "    return y_prob"
   ]
  },
  {
   "cell_type": "code",
   "execution_count": 534,
   "metadata": {
    "collapsed": false
   },
   "outputs": [],
   "source": [
    "w0, w = NewtonMethod(X_train_sel, y_train)\n",
    "thresholds = np.arange(0.05, 0.95, 0.05)\n",
    "pass_rates = []\n",
    "accuracies = []\n",
    "recall_on_1s = []\n",
    "precision_on_0s = []\n",
    "auc_scores = []\n",
    "for threshold in thresholds:\n",
    "    y_predict_BLR = getPrediction(w0, w, X_test_sel.values, y_test, threshold)\n",
    "    y_predict_prob_BLR = getProbability(w0, w, X_test_sel.values, y_test, threshold)\n",
    "    pass_rate, accuracy, recall_on_1, precision_on_0 = predict_table(y_test, y_predict_BLR)\n",
    "    pass_rates.append(pass_rate)\n",
    "    accuracies.append(accuracy)\n",
    "    recall_on_1s.append(recall_on_1)\n",
    "\n",
    "    precision_on_0s.append(precision_on_0)\n",
    "    auc_score = roc_auc_score(y_test, y_predict_prob_BLR)\n",
    "    auc_scores.append(auc_score)"
   ]
  },
  {
   "cell_type": "code",
   "execution_count": 537,
   "metadata": {
    "collapsed": false
   },
   "outputs": [
    {
     "data": {
      "image/png": "[encoded data removed]",
      "text/plain": [
       "<matplotlib.figure.Figure at 0x7f87b4be3290>"
      ]
     },
     "metadata": {},
     "output_type": "display_data"
    }
   ],
   "source": [
    "ax = plt.subplot(111)\n",
    "box = ax.get_position()\n",
    "ax.set_position([box.x0, box.y0, box.width * 0.8, box.height])\n",
    "\n",
    "\n",
    "ax.plot(thresholds, recall_on_1s, '.-',label = 'Recall on default')\n",
    "ax.plot(thresholds, precision_on_0s, '.-',label = 'Precision on non-default')\n",
    "# plt.plot(thresholds, accuracies, '.-',label = 'Accuracy')\n",
    "ax.plot(thresholds, auc_scores, '.-',label = 'AUC score')\n",
    "ax.plot(thresholds, pass_rates, '.-',label = 'Pass Rate')\n",
    "# Put a legend to the right of the current axis\n",
    "ax.legend(loc='center left', bbox_to_anchor=(1, 0.5))\n",
    "\n",
    "plt.xlabel('Threshold')\n",
    "plt.grid('on')\n",
    "plt.savefig('./poster/plots/threshold.png')"
   ]
  },
  {
   "cell_type": "markdown",
   "metadata": {},
   "source": [
    "## 3.4 Suggestions to Lending Club"
   ]
  },
  {
   "cell_type": "markdown",
   "metadata": {},
   "source": [
    "Right now Lending Club provides credit grade and subgrade to assist the investors in loan selections. The distribution of Lending Club grade and the default probability for each Lending Club grade are listed below:"
   ]
  },
  {
   "cell_type": "code",
   "execution_count": 617,
   "metadata": {
    "collapsed": false
   },
   "outputs": [
    {
     "name": "stdout",
     "output_type": "stream",
     "text": [
      "Proportion of loans in each Lending Club credit grade:\n",
      "A    0.117151\n",
      "B    0.240927\n",
      "C    0.292757\n",
      "D    0.174843\n",
      "E    0.110005\n",
      "F    0.048137\n",
      "G    0.016180\n",
      "Name: grade, dtype: float64\n",
      "Default rate for each Lending Club credit grade:\n",
      "A    0.139822\n",
      "B    0.245292\n",
      "C    0.343527\n",
      "D    0.433525\n",
      "E    0.512409\n",
      "F    0.555463\n",
      "G    0.615385\n",
      "Name: grade, dtype: float64\n"
     ]
    },
    {
     "data": {
      "image/png": "[encoded data removed]",
      "text/plain": [
       "<matplotlib.figure.Figure at 0x7f87b467e4d0>"
      ]
     },
     "metadata": {},
     "output_type": "display_data"
    }
   ],
   "source": [
    "grade_non_default = data[y == 0].grade.copy()\n",
    "grade_non_default = grade_non_default.value_counts().sort_index()\n",
    "\n",
    "grade_default = data[y == 1].grade.copy()\n",
    "grade_default = grade_default.value_counts().sort_index()\n",
    "\n",
    "\n",
    "grade = data.grade.copy().value_counts().sort_index()\n",
    "grade_proportion = grade /data.shape[0]\n",
    "print \"Proportion of loans in each Lending Club credit grade:\"\n",
    "print grade/data.shape[0]\n",
    "default_rate = (grade_default) / grade\n",
    "print \"Default rate for each Lending Club credit grade:\"\n",
    "print default_rate\n",
    "default_rate.plot(kind='bar', color = 'blue', alpha = 0.4, position=1, width=0.25,label = 'default rate')\n",
    "grade_proportion.plot(kind='bar', color = 'orange', alpha = 0.4, position=0, width=0.25,label = 'percentage of grade')\n",
    "plt.legend(loc = 'best')\n",
    "plt.title('Default rate of different Lending Club Grades')\n",
    "plt.show()"
   ]
  },
  {
   "cell_type": "markdown",
   "metadata": {},
   "source": [
    "# Future Work"
   ]
  }
 ],
 "metadata": {
  "kernelspec": {
   "display_name": "Python [Root]",
   "language": "python",
   "name": "Python [Root]"
  },
  "language_info": {
   "codemirror_mode": {
    "name": "ipython",
    "version": 2
   },
   "file_extension": ".py",
   "mimetype": "text/x-python",
   "name": "python",
   "nbconvert_exporter": "python",
   "pygments_lexer": "ipython2",
   "version": "2.7.12"
  }
 },
 "nbformat": 4,
 "nbformat_minor": 0
}
